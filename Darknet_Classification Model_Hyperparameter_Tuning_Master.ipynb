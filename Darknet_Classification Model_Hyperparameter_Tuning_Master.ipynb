{
 "cells": [
  {
   "cell_type": "code",
   "execution_count": 1,
   "metadata": {
    "id": "KOpq4G6eQAhX"
   },
   "outputs": [],
   "source": [
    "#Importing required libraries\n",
    "import pandas as pd\n",
    "import numpy as np\n",
    "import matplotlib.pyplot as plt\n",
    "from sklearn.preprocessing import LabelEncoder\n",
    "import seaborn as sns\n",
    "from scipy import stats\n",
    "import warnings\n",
    "warnings.filterwarnings('ignore')"
   ]
  },
  {
   "cell_type": "code",
   "execution_count": 2,
   "metadata": {
    "id": "4OdWbGaUQAhd",
    "outputId": "c57a6702-8d39-46f0-e09a-c9f6c6ddf124"
   },
   "outputs": [
    {
     "data": {
      "text/html": [
       "<div>\n",
       "<style scoped>\n",
       "    .dataframe tbody tr th:only-of-type {\n",
       "        vertical-align: middle;\n",
       "    }\n",
       "\n",
       "    .dataframe tbody tr th {\n",
       "        vertical-align: top;\n",
       "    }\n",
       "\n",
       "    .dataframe thead th {\n",
       "        text-align: right;\n",
       "    }\n",
       "</style>\n",
       "<table border=\"1\" class=\"dataframe\">\n",
       "  <thead>\n",
       "    <tr style=\"text-align: right;\">\n",
       "      <th></th>\n",
       "      <th>Flow ID</th>\n",
       "      <th>Src IP</th>\n",
       "      <th>Src Port</th>\n",
       "      <th>Dst IP</th>\n",
       "      <th>Dst Port</th>\n",
       "      <th>Protocol</th>\n",
       "      <th>Timestamp</th>\n",
       "      <th>Flow Duration</th>\n",
       "      <th>Total Fwd Packet</th>\n",
       "      <th>Total Bwd packets</th>\n",
       "      <th>...</th>\n",
       "      <th>Active Mean</th>\n",
       "      <th>Active Std</th>\n",
       "      <th>Active Max</th>\n",
       "      <th>Active Min</th>\n",
       "      <th>Idle Mean</th>\n",
       "      <th>Idle Std</th>\n",
       "      <th>Idle Max</th>\n",
       "      <th>Idle Min</th>\n",
       "      <th>Label</th>\n",
       "      <th>Label.1</th>\n",
       "    </tr>\n",
       "  </thead>\n",
       "  <tbody>\n",
       "    <tr>\n",
       "      <th>0</th>\n",
       "      <td>10.152.152.11-216.58.220.99-57158-443-6</td>\n",
       "      <td>10.152.152.11</td>\n",
       "      <td>57158</td>\n",
       "      <td>216.58.220.99</td>\n",
       "      <td>443</td>\n",
       "      <td>6</td>\n",
       "      <td>24-07-2015 16:09</td>\n",
       "      <td>229</td>\n",
       "      <td>1</td>\n",
       "      <td>1</td>\n",
       "      <td>...</td>\n",
       "      <td>0</td>\n",
       "      <td>0</td>\n",
       "      <td>0</td>\n",
       "      <td>0</td>\n",
       "      <td>0.000000e+00</td>\n",
       "      <td>0.000</td>\n",
       "      <td>0.000000e+00</td>\n",
       "      <td>0.000000e+00</td>\n",
       "      <td>Non-Tor</td>\n",
       "      <td>AUDIO-VIDEO-STREAMING</td>\n",
       "    </tr>\n",
       "    <tr>\n",
       "      <th>1</th>\n",
       "      <td>10.152.152.11-216.58.220.99-57159-443-6</td>\n",
       "      <td>10.152.152.11</td>\n",
       "      <td>57159</td>\n",
       "      <td>216.58.220.99</td>\n",
       "      <td>443</td>\n",
       "      <td>6</td>\n",
       "      <td>24-07-2015 16:09</td>\n",
       "      <td>407</td>\n",
       "      <td>1</td>\n",
       "      <td>1</td>\n",
       "      <td>...</td>\n",
       "      <td>0</td>\n",
       "      <td>0</td>\n",
       "      <td>0</td>\n",
       "      <td>0</td>\n",
       "      <td>0.000000e+00</td>\n",
       "      <td>0.000</td>\n",
       "      <td>0.000000e+00</td>\n",
       "      <td>0.000000e+00</td>\n",
       "      <td>Non-Tor</td>\n",
       "      <td>AUDIO-VIDEO-STREAMING</td>\n",
       "    </tr>\n",
       "    <tr>\n",
       "      <th>2</th>\n",
       "      <td>10.152.152.11-216.58.220.99-57160-443-6</td>\n",
       "      <td>10.152.152.11</td>\n",
       "      <td>57160</td>\n",
       "      <td>216.58.220.99</td>\n",
       "      <td>443</td>\n",
       "      <td>6</td>\n",
       "      <td>24-07-2015 16:09</td>\n",
       "      <td>431</td>\n",
       "      <td>1</td>\n",
       "      <td>1</td>\n",
       "      <td>...</td>\n",
       "      <td>0</td>\n",
       "      <td>0</td>\n",
       "      <td>0</td>\n",
       "      <td>0</td>\n",
       "      <td>0.000000e+00</td>\n",
       "      <td>0.000</td>\n",
       "      <td>0.000000e+00</td>\n",
       "      <td>0.000000e+00</td>\n",
       "      <td>Non-Tor</td>\n",
       "      <td>AUDIO-VIDEO-STREAMING</td>\n",
       "    </tr>\n",
       "    <tr>\n",
       "      <th>3</th>\n",
       "      <td>10.152.152.11-74.125.136.120-49134-443-6</td>\n",
       "      <td>10.152.152.11</td>\n",
       "      <td>49134</td>\n",
       "      <td>74.125.136.120</td>\n",
       "      <td>443</td>\n",
       "      <td>6</td>\n",
       "      <td>24-07-2015 16:09</td>\n",
       "      <td>359</td>\n",
       "      <td>1</td>\n",
       "      <td>1</td>\n",
       "      <td>...</td>\n",
       "      <td>0</td>\n",
       "      <td>0</td>\n",
       "      <td>0</td>\n",
       "      <td>0</td>\n",
       "      <td>0.000000e+00</td>\n",
       "      <td>0.000</td>\n",
       "      <td>0.000000e+00</td>\n",
       "      <td>0.000000e+00</td>\n",
       "      <td>Non-Tor</td>\n",
       "      <td>AUDIO-VIDEO-STREAMING</td>\n",
       "    </tr>\n",
       "    <tr>\n",
       "      <th>4</th>\n",
       "      <td>10.152.152.11-173.194.65.127-34697-19305-6</td>\n",
       "      <td>10.152.152.11</td>\n",
       "      <td>34697</td>\n",
       "      <td>173.194.65.127</td>\n",
       "      <td>19305</td>\n",
       "      <td>6</td>\n",
       "      <td>24-07-2015 16:09</td>\n",
       "      <td>10778451</td>\n",
       "      <td>591</td>\n",
       "      <td>400</td>\n",
       "      <td>...</td>\n",
       "      <td>0</td>\n",
       "      <td>0</td>\n",
       "      <td>0</td>\n",
       "      <td>0</td>\n",
       "      <td>1.440000e+15</td>\n",
       "      <td>3117718.131</td>\n",
       "      <td>1.440000e+15</td>\n",
       "      <td>1.440000e+15</td>\n",
       "      <td>Non-Tor</td>\n",
       "      <td>AUDIO-VIDEO-STREAMING</td>\n",
       "    </tr>\n",
       "  </tbody>\n",
       "</table>\n",
       "<p>5 rows × 85 columns</p>\n",
       "</div>"
      ],
      "text/plain": [
       "                                      Flow ID         Src IP  Src Port  \\\n",
       "0     10.152.152.11-216.58.220.99-57158-443-6  10.152.152.11     57158   \n",
       "1     10.152.152.11-216.58.220.99-57159-443-6  10.152.152.11     57159   \n",
       "2     10.152.152.11-216.58.220.99-57160-443-6  10.152.152.11     57160   \n",
       "3    10.152.152.11-74.125.136.120-49134-443-6  10.152.152.11     49134   \n",
       "4  10.152.152.11-173.194.65.127-34697-19305-6  10.152.152.11     34697   \n",
       "\n",
       "           Dst IP  Dst Port  Protocol         Timestamp  Flow Duration  \\\n",
       "0   216.58.220.99       443         6  24-07-2015 16:09            229   \n",
       "1   216.58.220.99       443         6  24-07-2015 16:09            407   \n",
       "2   216.58.220.99       443         6  24-07-2015 16:09            431   \n",
       "3  74.125.136.120       443         6  24-07-2015 16:09            359   \n",
       "4  173.194.65.127     19305         6  24-07-2015 16:09       10778451   \n",
       "\n",
       "   Total Fwd Packet  Total Bwd packets  ...  Active Mean  Active Std  \\\n",
       "0                 1                  1  ...            0           0   \n",
       "1                 1                  1  ...            0           0   \n",
       "2                 1                  1  ...            0           0   \n",
       "3                 1                  1  ...            0           0   \n",
       "4               591                400  ...            0           0   \n",
       "\n",
       "   Active Max  Active Min     Idle Mean     Idle Std      Idle Max  \\\n",
       "0           0           0  0.000000e+00        0.000  0.000000e+00   \n",
       "1           0           0  0.000000e+00        0.000  0.000000e+00   \n",
       "2           0           0  0.000000e+00        0.000  0.000000e+00   \n",
       "3           0           0  0.000000e+00        0.000  0.000000e+00   \n",
       "4           0           0  1.440000e+15  3117718.131  1.440000e+15   \n",
       "\n",
       "       Idle Min    Label                Label.1  \n",
       "0  0.000000e+00  Non-Tor  AUDIO-VIDEO-STREAMING  \n",
       "1  0.000000e+00  Non-Tor  AUDIO-VIDEO-STREAMING  \n",
       "2  0.000000e+00  Non-Tor  AUDIO-VIDEO-STREAMING  \n",
       "3  0.000000e+00  Non-Tor  AUDIO-VIDEO-STREAMING  \n",
       "4  1.440000e+15  Non-Tor  AUDIO-VIDEO-STREAMING  \n",
       "\n",
       "[5 rows x 85 columns]"
      ]
     },
     "execution_count": 2,
     "metadata": {},
     "output_type": "execute_result"
    }
   ],
   "source": [
    "# reading dataset\n",
    "df = pd.read_csv(r'D:\\Universities Documents\\Universities\\Projects UMBC\\Aslam Project\\New Update\\Darknetmod.CSV')\n",
    "df.head()"
   ]
  },
  {
   "cell_type": "code",
   "execution_count": 3,
   "metadata": {
    "id": "ZQnWHwWpQAhi",
    "outputId": "d6143096-cde8-4aea-e873-9c1958a34883"
   },
   "outputs": [
    {
     "data": {
      "text/plain": [
       "Index(['Flow ID', 'Src IP', 'Src Port', 'Dst IP', 'Dst Port', 'Protocol',\n",
       "       'Timestamp', 'Flow Duration', 'Total Fwd Packet', 'Total Bwd packets',\n",
       "       'Total Length of Fwd Packet', 'Total Length of Bwd Packet',\n",
       "       'Fwd Packet Length Max', 'Fwd Packet Length Min',\n",
       "       'Fwd Packet Length Mean', 'Fwd Packet Length Std',\n",
       "       'Bwd Packet Length Max', 'Bwd Packet Length Min',\n",
       "       'Bwd Packet Length Mean', 'Bwd Packet Length Std', 'Flow Bytes/s',\n",
       "       'Flow Packets/s', 'Flow IAT Mean', 'Flow IAT Std', 'Flow IAT Max',\n",
       "       'Flow IAT Min', 'Fwd IAT Total', 'Fwd IAT Mean', 'Fwd IAT Std',\n",
       "       'Fwd IAT Max', 'Fwd IAT Min', 'Bwd IAT Total', 'Bwd IAT Mean',\n",
       "       'Bwd IAT Std', 'Bwd IAT Max', 'Bwd IAT Min', 'Fwd PSH Flags',\n",
       "       'Bwd PSH Flags', 'Fwd URG Flags', 'Bwd URG Flags', 'Fwd Header Length',\n",
       "       'Bwd Header Length', 'Fwd Packets/s', 'Bwd Packets/s',\n",
       "       'Packet Length Min', 'Packet Length Max', 'Packet Length Mean',\n",
       "       'Packet Length Std', 'Packet Length Variance', 'FIN Flag Count',\n",
       "       'SYN Flag Count', 'RST Flag Count', 'PSH Flag Count', 'ACK Flag Count',\n",
       "       'URG Flag Count', 'CWE Flag Count', 'ECE Flag Count', 'Down/Up Ratio',\n",
       "       'Average Packet Size', 'Fwd Segment Size Avg', 'Bwd Segment Size Avg',\n",
       "       'Fwd Bytes/Bulk Avg', 'Fwd Packet/Bulk Avg', 'Fwd Bulk Rate Avg',\n",
       "       'Bwd Bytes/Bulk Avg', 'Bwd Packet/Bulk Avg', 'Bwd Bulk Rate Avg',\n",
       "       'Subflow Fwd Packets', 'Subflow Fwd Bytes', 'Subflow Bwd Packets',\n",
       "       'Subflow Bwd Bytes', 'FWD Init Win Bytes', 'Bwd Init Win Bytes',\n",
       "       'Fwd Act Data Pkts', 'Fwd Seg Size Min', 'Active Mean', 'Active Std',\n",
       "       'Active Max', 'Active Min', 'Idle Mean', 'Idle Std', 'Idle Max',\n",
       "       'Idle Min', 'Label', 'Label.1'],\n",
       "      dtype='object')"
      ]
     },
     "execution_count": 3,
     "metadata": {},
     "output_type": "execute_result"
    }
   ],
   "source": [
    "df.columns"
   ]
  },
  {
   "cell_type": "code",
   "execution_count": 4,
   "metadata": {
    "id": "xouMkOcwQAhk",
    "outputId": "698e0120-2825-4cc0-8acf-df924ce01d2e"
   },
   "outputs": [
    {
     "data": {
      "text/html": [
       "<div>\n",
       "<style scoped>\n",
       "    .dataframe tbody tr th:only-of-type {\n",
       "        vertical-align: middle;\n",
       "    }\n",
       "\n",
       "    .dataframe tbody tr th {\n",
       "        vertical-align: top;\n",
       "    }\n",
       "\n",
       "    .dataframe thead th {\n",
       "        text-align: right;\n",
       "    }\n",
       "</style>\n",
       "<table border=\"1\" class=\"dataframe\">\n",
       "  <thead>\n",
       "    <tr style=\"text-align: right;\">\n",
       "      <th></th>\n",
       "      <th>Src Port</th>\n",
       "      <th>Dst Port</th>\n",
       "      <th>Protocol</th>\n",
       "      <th>Flow Duration</th>\n",
       "      <th>Total Fwd Packet</th>\n",
       "      <th>Total Bwd packets</th>\n",
       "      <th>Total Length of Fwd Packet</th>\n",
       "      <th>Total Length of Bwd Packet</th>\n",
       "      <th>Fwd Packet Length Max</th>\n",
       "      <th>Fwd Packet Length Min</th>\n",
       "      <th>...</th>\n",
       "      <th>Fwd Act Data Pkts</th>\n",
       "      <th>Fwd Seg Size Min</th>\n",
       "      <th>Active Mean</th>\n",
       "      <th>Active Std</th>\n",
       "      <th>Active Max</th>\n",
       "      <th>Active Min</th>\n",
       "      <th>Idle Mean</th>\n",
       "      <th>Idle Std</th>\n",
       "      <th>Idle Max</th>\n",
       "      <th>Idle Min</th>\n",
       "    </tr>\n",
       "  </thead>\n",
       "  <tbody>\n",
       "    <tr>\n",
       "      <th>count</th>\n",
       "      <td>141530.000000</td>\n",
       "      <td>141530.000000</td>\n",
       "      <td>141530.000000</td>\n",
       "      <td>1.415300e+05</td>\n",
       "      <td>141530.000000</td>\n",
       "      <td>141530.000000</td>\n",
       "      <td>1.415300e+05</td>\n",
       "      <td>1.415300e+05</td>\n",
       "      <td>141530.000000</td>\n",
       "      <td>141530.000000</td>\n",
       "      <td>...</td>\n",
       "      <td>141530.000000</td>\n",
       "      <td>141530.000000</td>\n",
       "      <td>141530.0</td>\n",
       "      <td>141530.0</td>\n",
       "      <td>141530.0</td>\n",
       "      <td>141530.0</td>\n",
       "      <td>1.415300e+05</td>\n",
       "      <td>1.415300e+05</td>\n",
       "      <td>1.415300e+05</td>\n",
       "      <td>1.415300e+05</td>\n",
       "    </tr>\n",
       "    <tr>\n",
       "      <th>mean</th>\n",
       "      <td>38450.268819</td>\n",
       "      <td>18124.647333</td>\n",
       "      <td>10.350427</td>\n",
       "      <td>2.081280e+07</td>\n",
       "      <td>152.800749</td>\n",
       "      <td>154.642062</td>\n",
       "      <td>1.126211e+05</td>\n",
       "      <td>1.304530e+05</td>\n",
       "      <td>208.920420</td>\n",
       "      <td>15.617078</td>\n",
       "      <td>...</td>\n",
       "      <td>96.881573</td>\n",
       "      <td>15.808182</td>\n",
       "      <td>0.0</td>\n",
       "      <td>0.0</td>\n",
       "      <td>0.0</td>\n",
       "      <td>0.0</td>\n",
       "      <td>7.038622e+14</td>\n",
       "      <td>5.526280e+13</td>\n",
       "      <td>7.319680e+14</td>\n",
       "      <td>6.005441e+14</td>\n",
       "    </tr>\n",
       "    <tr>\n",
       "      <th>std</th>\n",
       "      <td>19124.801990</td>\n",
       "      <td>22202.197159</td>\n",
       "      <td>5.431807</td>\n",
       "      <td>3.809155e+07</td>\n",
       "      <td>2378.323352</td>\n",
       "      <td>3418.715287</td>\n",
       "      <td>3.251357e+06</td>\n",
       "      <td>4.566180e+06</td>\n",
       "      <td>649.432333</td>\n",
       "      <td>31.312298</td>\n",
       "      <td>...</td>\n",
       "      <td>1582.814902</td>\n",
       "      <td>7.110714</td>\n",
       "      <td>0.0</td>\n",
       "      <td>0.0</td>\n",
       "      <td>0.0</td>\n",
       "      <td>0.0</td>\n",
       "      <td>7.070184e+14</td>\n",
       "      <td>1.930264e+14</td>\n",
       "      <td>7.262003e+14</td>\n",
       "      <td>7.151914e+14</td>\n",
       "    </tr>\n",
       "    <tr>\n",
       "      <th>min</th>\n",
       "      <td>0.000000</td>\n",
       "      <td>0.000000</td>\n",
       "      <td>0.000000</td>\n",
       "      <td>0.000000e+00</td>\n",
       "      <td>1.000000</td>\n",
       "      <td>0.000000</td>\n",
       "      <td>0.000000e+00</td>\n",
       "      <td>0.000000e+00</td>\n",
       "      <td>0.000000</td>\n",
       "      <td>0.000000</td>\n",
       "      <td>...</td>\n",
       "      <td>0.000000</td>\n",
       "      <td>0.000000</td>\n",
       "      <td>0.0</td>\n",
       "      <td>0.0</td>\n",
       "      <td>0.0</td>\n",
       "      <td>0.0</td>\n",
       "      <td>0.000000e+00</td>\n",
       "      <td>0.000000e+00</td>\n",
       "      <td>0.000000e+00</td>\n",
       "      <td>0.000000e+00</td>\n",
       "    </tr>\n",
       "    <tr>\n",
       "      <th>25%</th>\n",
       "      <td>32425.500000</td>\n",
       "      <td>80.000000</td>\n",
       "      <td>6.000000</td>\n",
       "      <td>1.778100e+04</td>\n",
       "      <td>1.000000</td>\n",
       "      <td>0.000000</td>\n",
       "      <td>0.000000e+00</td>\n",
       "      <td>0.000000e+00</td>\n",
       "      <td>0.000000</td>\n",
       "      <td>0.000000</td>\n",
       "      <td>...</td>\n",
       "      <td>0.000000</td>\n",
       "      <td>8.000000</td>\n",
       "      <td>0.0</td>\n",
       "      <td>0.0</td>\n",
       "      <td>0.0</td>\n",
       "      <td>0.0</td>\n",
       "      <td>0.000000e+00</td>\n",
       "      <td>0.000000e+00</td>\n",
       "      <td>0.000000e+00</td>\n",
       "      <td>0.000000e+00</td>\n",
       "    </tr>\n",
       "    <tr>\n",
       "      <th>50%</th>\n",
       "      <td>43528.000000</td>\n",
       "      <td>5355.000000</td>\n",
       "      <td>6.000000</td>\n",
       "      <td>4.162820e+05</td>\n",
       "      <td>2.000000</td>\n",
       "      <td>1.000000</td>\n",
       "      <td>4.400000e+01</td>\n",
       "      <td>0.000000e+00</td>\n",
       "      <td>34.000000</td>\n",
       "      <td>0.000000</td>\n",
       "      <td>...</td>\n",
       "      <td>1.000000</td>\n",
       "      <td>20.000000</td>\n",
       "      <td>0.0</td>\n",
       "      <td>0.0</td>\n",
       "      <td>0.0</td>\n",
       "      <td>0.0</td>\n",
       "      <td>7.280000e+14</td>\n",
       "      <td>0.000000e+00</td>\n",
       "      <td>1.430000e+15</td>\n",
       "      <td>5.584614e+06</td>\n",
       "    </tr>\n",
       "    <tr>\n",
       "      <th>75%</th>\n",
       "      <td>53338.000000</td>\n",
       "      <td>40020.000000</td>\n",
       "      <td>17.000000</td>\n",
       "      <td>1.181470e+07</td>\n",
       "      <td>4.000000</td>\n",
       "      <td>3.000000</td>\n",
       "      <td>2.160000e+02</td>\n",
       "      <td>2.160000e+02</td>\n",
       "      <td>103.000000</td>\n",
       "      <td>31.000000</td>\n",
       "      <td>...</td>\n",
       "      <td>2.000000</td>\n",
       "      <td>20.000000</td>\n",
       "      <td>0.0</td>\n",
       "      <td>0.0</td>\n",
       "      <td>0.0</td>\n",
       "      <td>0.0</td>\n",
       "      <td>1.460000e+15</td>\n",
       "      <td>1.031457e+07</td>\n",
       "      <td>1.460000e+15</td>\n",
       "      <td>1.460000e+15</td>\n",
       "    </tr>\n",
       "    <tr>\n",
       "      <th>max</th>\n",
       "      <td>65534.000000</td>\n",
       "      <td>65535.000000</td>\n",
       "      <td>17.000000</td>\n",
       "      <td>1.200000e+08</td>\n",
       "      <td>238161.000000</td>\n",
       "      <td>470862.000000</td>\n",
       "      <td>7.693074e+08</td>\n",
       "      <td>6.704287e+08</td>\n",
       "      <td>64240.000000</td>\n",
       "      <td>1350.000000</td>\n",
       "      <td>...</td>\n",
       "      <td>113325.000000</td>\n",
       "      <td>44.000000</td>\n",
       "      <td>0.0</td>\n",
       "      <td>0.0</td>\n",
       "      <td>0.0</td>\n",
       "      <td>0.0</td>\n",
       "      <td>1.460000e+15</td>\n",
       "      <td>1.030000e+15</td>\n",
       "      <td>1.460000e+15</td>\n",
       "      <td>1.460000e+15</td>\n",
       "    </tr>\n",
       "  </tbody>\n",
       "</table>\n",
       "<p>8 rows × 79 columns</p>\n",
       "</div>"
      ],
      "text/plain": [
       "            Src Port       Dst Port       Protocol  Flow Duration  \\\n",
       "count  141530.000000  141530.000000  141530.000000   1.415300e+05   \n",
       "mean    38450.268819   18124.647333      10.350427   2.081280e+07   \n",
       "std     19124.801990   22202.197159       5.431807   3.809155e+07   \n",
       "min         0.000000       0.000000       0.000000   0.000000e+00   \n",
       "25%     32425.500000      80.000000       6.000000   1.778100e+04   \n",
       "50%     43528.000000    5355.000000       6.000000   4.162820e+05   \n",
       "75%     53338.000000   40020.000000      17.000000   1.181470e+07   \n",
       "max     65534.000000   65535.000000      17.000000   1.200000e+08   \n",
       "\n",
       "       Total Fwd Packet  Total Bwd packets  Total Length of Fwd Packet  \\\n",
       "count     141530.000000      141530.000000                1.415300e+05   \n",
       "mean         152.800749         154.642062                1.126211e+05   \n",
       "std         2378.323352        3418.715287                3.251357e+06   \n",
       "min            1.000000           0.000000                0.000000e+00   \n",
       "25%            1.000000           0.000000                0.000000e+00   \n",
       "50%            2.000000           1.000000                4.400000e+01   \n",
       "75%            4.000000           3.000000                2.160000e+02   \n",
       "max       238161.000000      470862.000000                7.693074e+08   \n",
       "\n",
       "       Total Length of Bwd Packet  Fwd Packet Length Max  \\\n",
       "count                1.415300e+05          141530.000000   \n",
       "mean                 1.304530e+05             208.920420   \n",
       "std                  4.566180e+06             649.432333   \n",
       "min                  0.000000e+00               0.000000   \n",
       "25%                  0.000000e+00               0.000000   \n",
       "50%                  0.000000e+00              34.000000   \n",
       "75%                  2.160000e+02             103.000000   \n",
       "max                  6.704287e+08           64240.000000   \n",
       "\n",
       "       Fwd Packet Length Min  ...  Fwd Act Data Pkts  Fwd Seg Size Min  \\\n",
       "count          141530.000000  ...      141530.000000     141530.000000   \n",
       "mean               15.617078  ...          96.881573         15.808182   \n",
       "std                31.312298  ...        1582.814902          7.110714   \n",
       "min                 0.000000  ...           0.000000          0.000000   \n",
       "25%                 0.000000  ...           0.000000          8.000000   \n",
       "50%                 0.000000  ...           1.000000         20.000000   \n",
       "75%                31.000000  ...           2.000000         20.000000   \n",
       "max              1350.000000  ...      113325.000000         44.000000   \n",
       "\n",
       "       Active Mean  Active Std  Active Max  Active Min     Idle Mean  \\\n",
       "count     141530.0    141530.0    141530.0    141530.0  1.415300e+05   \n",
       "mean           0.0         0.0         0.0         0.0  7.038622e+14   \n",
       "std            0.0         0.0         0.0         0.0  7.070184e+14   \n",
       "min            0.0         0.0         0.0         0.0  0.000000e+00   \n",
       "25%            0.0         0.0         0.0         0.0  0.000000e+00   \n",
       "50%            0.0         0.0         0.0         0.0  7.280000e+14   \n",
       "75%            0.0         0.0         0.0         0.0  1.460000e+15   \n",
       "max            0.0         0.0         0.0         0.0  1.460000e+15   \n",
       "\n",
       "           Idle Std      Idle Max      Idle Min  \n",
       "count  1.415300e+05  1.415300e+05  1.415300e+05  \n",
       "mean   5.526280e+13  7.319680e+14  6.005441e+14  \n",
       "std    1.930264e+14  7.262003e+14  7.151914e+14  \n",
       "min    0.000000e+00  0.000000e+00  0.000000e+00  \n",
       "25%    0.000000e+00  0.000000e+00  0.000000e+00  \n",
       "50%    0.000000e+00  1.430000e+15  5.584614e+06  \n",
       "75%    1.031457e+07  1.460000e+15  1.460000e+15  \n",
       "max    1.030000e+15  1.460000e+15  1.460000e+15  \n",
       "\n",
       "[8 rows x 79 columns]"
      ]
     },
     "execution_count": 4,
     "metadata": {},
     "output_type": "execute_result"
    }
   ],
   "source": [
    "#Analysing various aspects of dataset\n",
    "df.describe()"
   ]
  },
  {
   "cell_type": "code",
   "execution_count": 5,
   "metadata": {
    "id": "Z-tapvNjQAhm",
    "outputId": "48041b4a-ca7f-408f-c59a-176c0b8bb8cc"
   },
   "outputs": [
    {
     "data": {
      "text/plain": [
       "Flow ID      object\n",
       "Src IP       object\n",
       "Src Port      int64\n",
       "Dst IP       object\n",
       "Dst Port      int64\n",
       "             ...   \n",
       "Idle Std    float64\n",
       "Idle Max    float64\n",
       "Idle Min    float64\n",
       "Label        object\n",
       "Label.1      object\n",
       "Length: 85, dtype: object"
      ]
     },
     "execution_count": 5,
     "metadata": {},
     "output_type": "execute_result"
    }
   ],
   "source": [
    "df.dtypes"
   ]
  },
  {
   "cell_type": "code",
   "execution_count": 6,
   "metadata": {
    "id": "uQAuZlAhQAho",
    "outputId": "60b14295-cac7-4990-9ea5-833f2b31e277"
   },
   "outputs": [
    {
     "data": {
      "text/plain": [
       "True"
      ]
     },
     "execution_count": 6,
     "metadata": {},
     "output_type": "execute_result"
    }
   ],
   "source": [
    "#Checking for null vaues\n",
    "df.isnull().values.any()"
   ]
  },
  {
   "cell_type": "code",
   "execution_count": 7,
   "metadata": {
    "id": "aOaV5ZLcQAhp",
    "outputId": "413bcab4-a502-4618-a5f1-4b8c3a8779dd"
   },
   "outputs": [
    {
     "data": {
      "text/plain": [
       "47"
      ]
     },
     "execution_count": 7,
     "metadata": {},
     "output_type": "execute_result"
    }
   ],
   "source": [
    "#Total number of null values\n",
    "df.isnull().values.sum()"
   ]
  },
  {
   "cell_type": "code",
   "execution_count": 8,
   "metadata": {
    "id": "MJXYT0sSQAhr",
    "outputId": "778c04d0-fd9b-4ecd-db47-aabbd2e4748f"
   },
   "outputs": [
    {
     "name": "stdout",
     "output_type": "stream",
     "text": [
      "0.0\n",
      "0.0\n",
      "0.0\n",
      "0.0\n",
      "0.0\n",
      "0.0\n",
      "0.0\n",
      "0.0\n",
      "0.0\n",
      "0.0\n",
      "0.0\n",
      "0.0\n",
      "0.0\n",
      "0.0\n",
      "0.0\n",
      "0.0\n",
      "0.0\n",
      "0.0\n",
      "0.0\n",
      "0.0\n",
      "0.03320850703031159\n",
      "0.0\n",
      "0.0\n",
      "0.0\n",
      "0.0\n",
      "0.0\n",
      "0.0\n",
      "0.0\n",
      "0.0\n",
      "0.0\n",
      "0.0\n",
      "0.0\n",
      "0.0\n",
      "0.0\n",
      "0.0\n",
      "0.0\n",
      "0.0\n",
      "0.0\n",
      "0.0\n",
      "0.0\n",
      "0.0\n",
      "0.0\n",
      "0.0\n",
      "0.0\n",
      "0.0\n",
      "0.0\n",
      "0.0\n",
      "0.0\n",
      "0.0\n",
      "0.0\n",
      "0.0\n",
      "0.0\n",
      "0.0\n",
      "0.0\n",
      "0.0\n",
      "0.0\n",
      "0.0\n",
      "0.0\n",
      "0.0\n",
      "0.0\n",
      "0.0\n",
      "0.0\n",
      "0.0\n",
      "0.0\n",
      "0.0\n",
      "0.0\n",
      "0.0\n",
      "0.0\n",
      "0.0\n",
      "0.0\n",
      "0.0\n",
      "0.0\n",
      "0.0\n",
      "0.0\n",
      "0.0\n",
      "0.0\n",
      "0.0\n",
      "0.0\n",
      "0.0\n",
      "0.0\n",
      "0.0\n",
      "0.0\n",
      "0.0\n",
      "0.0\n",
      "0.0\n"
     ]
    }
   ],
   "source": [
    "#index of null values\n",
    "df_percent_null_values=(df.isnull().sum()*100)/len(df)\n",
    "for i in df_percent_null_values:\n",
    "    print(i)"
   ]
  },
  {
   "cell_type": "code",
   "execution_count": 9,
   "metadata": {
    "id": "1FTdZdCYQAhu"
   },
   "outputs": [],
   "source": [
    "#As the volume of null values is small, thus dropping those\n",
    "df.dropna(axis = 0, inplace = True)"
   ]
  },
  {
   "cell_type": "code",
   "execution_count": 10,
   "metadata": {
    "id": "WdRdx9z6QAhx",
    "outputId": "65abac54-667f-45e1-bb3f-daf10a783fac"
   },
   "outputs": [
    {
     "data": {
      "text/plain": [
       "False"
      ]
     },
     "execution_count": 10,
     "metadata": {},
     "output_type": "execute_result"
    }
   ],
   "source": [
    "df.isnull().values.any()"
   ]
  },
  {
   "cell_type": "code",
   "execution_count": 11,
   "metadata": {
    "id": "FMOgzaffQAhy"
   },
   "outputs": [],
   "source": [
    "#Dropping duplicated values\n",
    "df = df.loc[:,~df.columns.duplicated()]"
   ]
  },
  {
   "cell_type": "code",
   "execution_count": 12,
   "metadata": {
    "id": "c_feWeKIQAh0",
    "outputId": "c607d2b2-2968-4cd5-82f3-2bd42d61843e"
   },
   "outputs": [
    {
     "data": {
      "text/plain": [
       "Index(['Flow ID', 'Src IP', 'Src Port', 'Dst IP', 'Dst Port', 'Protocol',\n",
       "       'Timestamp', 'Flow Duration', 'Total Fwd Packet', 'Total Bwd packets',\n",
       "       'Total Length of Fwd Packet', 'Total Length of Bwd Packet',\n",
       "       'Fwd Packet Length Max', 'Fwd Packet Length Min',\n",
       "       'Fwd Packet Length Mean', 'Fwd Packet Length Std',\n",
       "       'Bwd Packet Length Max', 'Bwd Packet Length Min',\n",
       "       'Bwd Packet Length Mean', 'Bwd Packet Length Std', 'Flow Bytes/s',\n",
       "       'Flow Packets/s', 'Flow IAT Mean', 'Flow IAT Std', 'Flow IAT Max',\n",
       "       'Flow IAT Min', 'Fwd IAT Total', 'Fwd IAT Mean', 'Fwd IAT Std',\n",
       "       'Fwd IAT Max', 'Fwd IAT Min', 'Bwd IAT Total', 'Bwd IAT Mean',\n",
       "       'Bwd IAT Std', 'Bwd IAT Max', 'Bwd IAT Min', 'Fwd PSH Flags',\n",
       "       'Bwd PSH Flags', 'Fwd URG Flags', 'Bwd URG Flags', 'Fwd Header Length',\n",
       "       'Bwd Header Length', 'Fwd Packets/s', 'Bwd Packets/s',\n",
       "       'Packet Length Min', 'Packet Length Max', 'Packet Length Mean',\n",
       "       'Packet Length Std', 'Packet Length Variance', 'FIN Flag Count',\n",
       "       'SYN Flag Count', 'RST Flag Count', 'PSH Flag Count', 'ACK Flag Count',\n",
       "       'URG Flag Count', 'CWE Flag Count', 'ECE Flag Count', 'Down/Up Ratio',\n",
       "       'Average Packet Size', 'Fwd Segment Size Avg', 'Bwd Segment Size Avg',\n",
       "       'Fwd Bytes/Bulk Avg', 'Fwd Packet/Bulk Avg', 'Fwd Bulk Rate Avg',\n",
       "       'Bwd Bytes/Bulk Avg', 'Bwd Packet/Bulk Avg', 'Bwd Bulk Rate Avg',\n",
       "       'Subflow Fwd Packets', 'Subflow Fwd Bytes', 'Subflow Bwd Packets',\n",
       "       'Subflow Bwd Bytes', 'FWD Init Win Bytes', 'Bwd Init Win Bytes',\n",
       "       'Fwd Act Data Pkts', 'Fwd Seg Size Min', 'Active Mean', 'Active Std',\n",
       "       'Active Max', 'Active Min', 'Idle Mean', 'Idle Std', 'Idle Max',\n",
       "       'Idle Min', 'Label', 'Label.1'],\n",
       "      dtype='object')"
      ]
     },
     "execution_count": 12,
     "metadata": {},
     "output_type": "execute_result"
    }
   ],
   "source": [
    "df.columns"
   ]
  },
  {
   "cell_type": "code",
   "execution_count": 13,
   "metadata": {},
   "outputs": [],
   "source": [
    "df['Label'] = df['Label'].astype('str') \n",
    "df['Label'].dtype\n",
    "df['Label'] = df['Label'].apply(lambda name : name.upper())"
   ]
  },
  {
   "cell_type": "code",
   "execution_count": 14,
   "metadata": {},
   "outputs": [],
   "source": [
    "df['Label.1'] = df['Label.1'].astype('str') \n",
    "df['Label.1'].dtype\n",
    "df['Label.1'] = df['Label.1'].apply(lambda name : name.upper())"
   ]
  },
  {
   "cell_type": "code",
   "execution_count": 15,
   "metadata": {
    "id": "Vk0wGy6_QAh3"
   },
   "outputs": [],
   "source": [
    "#Converting categorical values into numerical values using label encoder\n",
    "labelencoder= LabelEncoder()\n",
    "df['Label'] = labelencoder.fit_transform(df['Label'])"
   ]
  },
  {
   "cell_type": "code",
   "execution_count": 16,
   "metadata": {
    "id": "7B1o2rzWQAh5",
    "outputId": "b62b8363-9514-4283-e732-1e7eb597aee1"
   },
   "outputs": [
    {
     "data": {
      "text/html": [
       "<div>\n",
       "<style scoped>\n",
       "    .dataframe tbody tr th:only-of-type {\n",
       "        vertical-align: middle;\n",
       "    }\n",
       "\n",
       "    .dataframe tbody tr th {\n",
       "        vertical-align: top;\n",
       "    }\n",
       "\n",
       "    .dataframe thead th {\n",
       "        text-align: right;\n",
       "    }\n",
       "</style>\n",
       "<table border=\"1\" class=\"dataframe\">\n",
       "  <thead>\n",
       "    <tr style=\"text-align: right;\">\n",
       "      <th></th>\n",
       "      <th>Flow ID</th>\n",
       "      <th>Src IP</th>\n",
       "      <th>Src Port</th>\n",
       "      <th>Dst IP</th>\n",
       "      <th>Dst Port</th>\n",
       "      <th>Protocol</th>\n",
       "      <th>Timestamp</th>\n",
       "      <th>Flow Duration</th>\n",
       "      <th>Total Fwd Packet</th>\n",
       "      <th>Total Bwd packets</th>\n",
       "      <th>...</th>\n",
       "      <th>Active Mean</th>\n",
       "      <th>Active Std</th>\n",
       "      <th>Active Max</th>\n",
       "      <th>Active Min</th>\n",
       "      <th>Idle Mean</th>\n",
       "      <th>Idle Std</th>\n",
       "      <th>Idle Max</th>\n",
       "      <th>Idle Min</th>\n",
       "      <th>Label</th>\n",
       "      <th>Label.1</th>\n",
       "    </tr>\n",
       "  </thead>\n",
       "  <tbody>\n",
       "    <tr>\n",
       "      <th>0</th>\n",
       "      <td>10.152.152.11-216.58.220.99-57158-443-6</td>\n",
       "      <td>10.152.152.11</td>\n",
       "      <td>57158</td>\n",
       "      <td>216.58.220.99</td>\n",
       "      <td>443</td>\n",
       "      <td>6</td>\n",
       "      <td>24-07-2015 16:09</td>\n",
       "      <td>229</td>\n",
       "      <td>1</td>\n",
       "      <td>1</td>\n",
       "      <td>...</td>\n",
       "      <td>0</td>\n",
       "      <td>0</td>\n",
       "      <td>0</td>\n",
       "      <td>0</td>\n",
       "      <td>0.000000e+00</td>\n",
       "      <td>0.000</td>\n",
       "      <td>0.000000e+00</td>\n",
       "      <td>0.000000e+00</td>\n",
       "      <td>0</td>\n",
       "      <td>AUDIO-VIDEO-STREAMING</td>\n",
       "    </tr>\n",
       "    <tr>\n",
       "      <th>1</th>\n",
       "      <td>10.152.152.11-216.58.220.99-57159-443-6</td>\n",
       "      <td>10.152.152.11</td>\n",
       "      <td>57159</td>\n",
       "      <td>216.58.220.99</td>\n",
       "      <td>443</td>\n",
       "      <td>6</td>\n",
       "      <td>24-07-2015 16:09</td>\n",
       "      <td>407</td>\n",
       "      <td>1</td>\n",
       "      <td>1</td>\n",
       "      <td>...</td>\n",
       "      <td>0</td>\n",
       "      <td>0</td>\n",
       "      <td>0</td>\n",
       "      <td>0</td>\n",
       "      <td>0.000000e+00</td>\n",
       "      <td>0.000</td>\n",
       "      <td>0.000000e+00</td>\n",
       "      <td>0.000000e+00</td>\n",
       "      <td>0</td>\n",
       "      <td>AUDIO-VIDEO-STREAMING</td>\n",
       "    </tr>\n",
       "    <tr>\n",
       "      <th>2</th>\n",
       "      <td>10.152.152.11-216.58.220.99-57160-443-6</td>\n",
       "      <td>10.152.152.11</td>\n",
       "      <td>57160</td>\n",
       "      <td>216.58.220.99</td>\n",
       "      <td>443</td>\n",
       "      <td>6</td>\n",
       "      <td>24-07-2015 16:09</td>\n",
       "      <td>431</td>\n",
       "      <td>1</td>\n",
       "      <td>1</td>\n",
       "      <td>...</td>\n",
       "      <td>0</td>\n",
       "      <td>0</td>\n",
       "      <td>0</td>\n",
       "      <td>0</td>\n",
       "      <td>0.000000e+00</td>\n",
       "      <td>0.000</td>\n",
       "      <td>0.000000e+00</td>\n",
       "      <td>0.000000e+00</td>\n",
       "      <td>0</td>\n",
       "      <td>AUDIO-VIDEO-STREAMING</td>\n",
       "    </tr>\n",
       "    <tr>\n",
       "      <th>3</th>\n",
       "      <td>10.152.152.11-74.125.136.120-49134-443-6</td>\n",
       "      <td>10.152.152.11</td>\n",
       "      <td>49134</td>\n",
       "      <td>74.125.136.120</td>\n",
       "      <td>443</td>\n",
       "      <td>6</td>\n",
       "      <td>24-07-2015 16:09</td>\n",
       "      <td>359</td>\n",
       "      <td>1</td>\n",
       "      <td>1</td>\n",
       "      <td>...</td>\n",
       "      <td>0</td>\n",
       "      <td>0</td>\n",
       "      <td>0</td>\n",
       "      <td>0</td>\n",
       "      <td>0.000000e+00</td>\n",
       "      <td>0.000</td>\n",
       "      <td>0.000000e+00</td>\n",
       "      <td>0.000000e+00</td>\n",
       "      <td>0</td>\n",
       "      <td>AUDIO-VIDEO-STREAMING</td>\n",
       "    </tr>\n",
       "    <tr>\n",
       "      <th>4</th>\n",
       "      <td>10.152.152.11-173.194.65.127-34697-19305-6</td>\n",
       "      <td>10.152.152.11</td>\n",
       "      <td>34697</td>\n",
       "      <td>173.194.65.127</td>\n",
       "      <td>19305</td>\n",
       "      <td>6</td>\n",
       "      <td>24-07-2015 16:09</td>\n",
       "      <td>10778451</td>\n",
       "      <td>591</td>\n",
       "      <td>400</td>\n",
       "      <td>...</td>\n",
       "      <td>0</td>\n",
       "      <td>0</td>\n",
       "      <td>0</td>\n",
       "      <td>0</td>\n",
       "      <td>1.440000e+15</td>\n",
       "      <td>3117718.131</td>\n",
       "      <td>1.440000e+15</td>\n",
       "      <td>1.440000e+15</td>\n",
       "      <td>0</td>\n",
       "      <td>AUDIO-VIDEO-STREAMING</td>\n",
       "    </tr>\n",
       "  </tbody>\n",
       "</table>\n",
       "<p>5 rows × 85 columns</p>\n",
       "</div>"
      ],
      "text/plain": [
       "                                      Flow ID         Src IP  Src Port  \\\n",
       "0     10.152.152.11-216.58.220.99-57158-443-6  10.152.152.11     57158   \n",
       "1     10.152.152.11-216.58.220.99-57159-443-6  10.152.152.11     57159   \n",
       "2     10.152.152.11-216.58.220.99-57160-443-6  10.152.152.11     57160   \n",
       "3    10.152.152.11-74.125.136.120-49134-443-6  10.152.152.11     49134   \n",
       "4  10.152.152.11-173.194.65.127-34697-19305-6  10.152.152.11     34697   \n",
       "\n",
       "           Dst IP  Dst Port  Protocol         Timestamp  Flow Duration  \\\n",
       "0   216.58.220.99       443         6  24-07-2015 16:09            229   \n",
       "1   216.58.220.99       443         6  24-07-2015 16:09            407   \n",
       "2   216.58.220.99       443         6  24-07-2015 16:09            431   \n",
       "3  74.125.136.120       443         6  24-07-2015 16:09            359   \n",
       "4  173.194.65.127     19305         6  24-07-2015 16:09       10778451   \n",
       "\n",
       "   Total Fwd Packet  Total Bwd packets  ...  Active Mean  Active Std  \\\n",
       "0                 1                  1  ...            0           0   \n",
       "1                 1                  1  ...            0           0   \n",
       "2                 1                  1  ...            0           0   \n",
       "3                 1                  1  ...            0           0   \n",
       "4               591                400  ...            0           0   \n",
       "\n",
       "   Active Max  Active Min     Idle Mean     Idle Std      Idle Max  \\\n",
       "0           0           0  0.000000e+00        0.000  0.000000e+00   \n",
       "1           0           0  0.000000e+00        0.000  0.000000e+00   \n",
       "2           0           0  0.000000e+00        0.000  0.000000e+00   \n",
       "3           0           0  0.000000e+00        0.000  0.000000e+00   \n",
       "4           0           0  1.440000e+15  3117718.131  1.440000e+15   \n",
       "\n",
       "       Idle Min  Label                Label.1  \n",
       "0  0.000000e+00      0  AUDIO-VIDEO-STREAMING  \n",
       "1  0.000000e+00      0  AUDIO-VIDEO-STREAMING  \n",
       "2  0.000000e+00      0  AUDIO-VIDEO-STREAMING  \n",
       "3  0.000000e+00      0  AUDIO-VIDEO-STREAMING  \n",
       "4  1.440000e+15      0  AUDIO-VIDEO-STREAMING  \n",
       "\n",
       "[5 rows x 85 columns]"
      ]
     },
     "execution_count": 16,
     "metadata": {},
     "output_type": "execute_result"
    }
   ],
   "source": [
    "df.head()"
   ]
  },
  {
   "cell_type": "code",
   "execution_count": 17,
   "metadata": {
    "id": "YEsaCSXLQAh6",
    "outputId": "5c18e230-e52e-4029-f84f-789be8935714"
   },
   "outputs": [
    {
     "data": {
      "text/html": [
       "<div>\n",
       "<style scoped>\n",
       "    .dataframe tbody tr th:only-of-type {\n",
       "        vertical-align: middle;\n",
       "    }\n",
       "\n",
       "    .dataframe tbody tr th {\n",
       "        vertical-align: top;\n",
       "    }\n",
       "\n",
       "    .dataframe thead th {\n",
       "        text-align: right;\n",
       "    }\n",
       "</style>\n",
       "<table border=\"1\" class=\"dataframe\">\n",
       "  <thead>\n",
       "    <tr style=\"text-align: right;\">\n",
       "      <th></th>\n",
       "      <th>Src Port</th>\n",
       "      <th>Dst Port</th>\n",
       "      <th>Protocol</th>\n",
       "      <th>Flow Duration</th>\n",
       "      <th>Total Fwd Packet</th>\n",
       "      <th>Total Bwd packets</th>\n",
       "      <th>Total Length of Fwd Packet</th>\n",
       "      <th>Total Length of Bwd Packet</th>\n",
       "      <th>Fwd Packet Length Max</th>\n",
       "      <th>Fwd Packet Length Min</th>\n",
       "      <th>...</th>\n",
       "      <th>Fwd Seg Size Min</th>\n",
       "      <th>Active Mean</th>\n",
       "      <th>Active Std</th>\n",
       "      <th>Active Max</th>\n",
       "      <th>Active Min</th>\n",
       "      <th>Idle Mean</th>\n",
       "      <th>Idle Std</th>\n",
       "      <th>Idle Max</th>\n",
       "      <th>Idle Min</th>\n",
       "      <th>Label</th>\n",
       "    </tr>\n",
       "  </thead>\n",
       "  <tbody>\n",
       "    <tr>\n",
       "      <th>Src Port</th>\n",
       "      <td>1.000000</td>\n",
       "      <td>-0.245809</td>\n",
       "      <td>-0.097933</td>\n",
       "      <td>0.065040</td>\n",
       "      <td>-0.036318</td>\n",
       "      <td>-0.014283</td>\n",
       "      <td>-0.019744</td>\n",
       "      <td>-0.008293</td>\n",
       "      <td>0.076338</td>\n",
       "      <td>-0.090378</td>\n",
       "      <td>...</td>\n",
       "      <td>0.138797</td>\n",
       "      <td>NaN</td>\n",
       "      <td>NaN</td>\n",
       "      <td>NaN</td>\n",
       "      <td>NaN</td>\n",
       "      <td>0.072779</td>\n",
       "      <td>0.058524</td>\n",
       "      <td>0.077511</td>\n",
       "      <td>0.030946</td>\n",
       "      <td>-0.049322</td>\n",
       "    </tr>\n",
       "    <tr>\n",
       "      <th>Dst Port</th>\n",
       "      <td>-0.245809</td>\n",
       "      <td>1.000000</td>\n",
       "      <td>-0.320981</td>\n",
       "      <td>0.039493</td>\n",
       "      <td>0.022131</td>\n",
       "      <td>0.014801</td>\n",
       "      <td>0.004468</td>\n",
       "      <td>0.010882</td>\n",
       "      <td>0.004597</td>\n",
       "      <td>-0.178557</td>\n",
       "      <td>...</td>\n",
       "      <td>0.246108</td>\n",
       "      <td>NaN</td>\n",
       "      <td>NaN</td>\n",
       "      <td>NaN</td>\n",
       "      <td>NaN</td>\n",
       "      <td>0.070405</td>\n",
       "      <td>-0.000599</td>\n",
       "      <td>0.065079</td>\n",
       "      <td>0.060697</td>\n",
       "      <td>-0.291576</td>\n",
       "    </tr>\n",
       "    <tr>\n",
       "      <th>Protocol</th>\n",
       "      <td>-0.097933</td>\n",
       "      <td>-0.320981</td>\n",
       "      <td>1.000000</td>\n",
       "      <td>-0.267141</td>\n",
       "      <td>-0.034756</td>\n",
       "      <td>-0.026179</td>\n",
       "      <td>-0.023051</td>\n",
       "      <td>-0.020883</td>\n",
       "      <td>-0.195232</td>\n",
       "      <td>0.563995</td>\n",
       "      <td>...</td>\n",
       "      <td>-0.872453</td>\n",
       "      <td>NaN</td>\n",
       "      <td>NaN</td>\n",
       "      <td>NaN</td>\n",
       "      <td>NaN</td>\n",
       "      <td>-0.222981</td>\n",
       "      <td>-0.155942</td>\n",
       "      <td>-0.236992</td>\n",
       "      <td>-0.129667</td>\n",
       "      <td>0.404986</td>\n",
       "    </tr>\n",
       "    <tr>\n",
       "      <th>Flow Duration</th>\n",
       "      <td>0.065040</td>\n",
       "      <td>0.039493</td>\n",
       "      <td>-0.267141</td>\n",
       "      <td>1.000000</td>\n",
       "      <td>0.142106</td>\n",
       "      <td>0.100285</td>\n",
       "      <td>0.072527</td>\n",
       "      <td>0.057006</td>\n",
       "      <td>0.340708</td>\n",
       "      <td>-0.069027</td>\n",
       "      <td>...</td>\n",
       "      <td>0.240543</td>\n",
       "      <td>NaN</td>\n",
       "      <td>NaN</td>\n",
       "      <td>NaN</td>\n",
       "      <td>NaN</td>\n",
       "      <td>0.504973</td>\n",
       "      <td>0.127447</td>\n",
       "      <td>0.505699</td>\n",
       "      <td>0.408706</td>\n",
       "      <td>-0.069622</td>\n",
       "    </tr>\n",
       "    <tr>\n",
       "      <th>Total Fwd Packet</th>\n",
       "      <td>-0.036318</td>\n",
       "      <td>0.022131</td>\n",
       "      <td>-0.034756</td>\n",
       "      <td>0.142106</td>\n",
       "      <td>1.000000</td>\n",
       "      <td>0.744834</td>\n",
       "      <td>0.457390</td>\n",
       "      <td>0.635688</td>\n",
       "      <td>0.125570</td>\n",
       "      <td>-0.020993</td>\n",
       "      <td>...</td>\n",
       "      <td>0.029666</td>\n",
       "      <td>NaN</td>\n",
       "      <td>NaN</td>\n",
       "      <td>NaN</td>\n",
       "      <td>NaN</td>\n",
       "      <td>0.066359</td>\n",
       "      <td>-0.017741</td>\n",
       "      <td>0.062186</td>\n",
       "      <td>0.073961</td>\n",
       "      <td>0.039563</td>\n",
       "    </tr>\n",
       "  </tbody>\n",
       "</table>\n",
       "<p>5 rows × 80 columns</p>\n",
       "</div>"
      ],
      "text/plain": [
       "                  Src Port  Dst Port  Protocol  Flow Duration  \\\n",
       "Src Port          1.000000 -0.245809 -0.097933       0.065040   \n",
       "Dst Port         -0.245809  1.000000 -0.320981       0.039493   \n",
       "Protocol         -0.097933 -0.320981  1.000000      -0.267141   \n",
       "Flow Duration     0.065040  0.039493 -0.267141       1.000000   \n",
       "Total Fwd Packet -0.036318  0.022131 -0.034756       0.142106   \n",
       "\n",
       "                  Total Fwd Packet  Total Bwd packets  \\\n",
       "Src Port                 -0.036318          -0.014283   \n",
       "Dst Port                  0.022131           0.014801   \n",
       "Protocol                 -0.034756          -0.026179   \n",
       "Flow Duration             0.142106           0.100285   \n",
       "Total Fwd Packet          1.000000           0.744834   \n",
       "\n",
       "                  Total Length of Fwd Packet  Total Length of Bwd Packet  \\\n",
       "Src Port                           -0.019744                   -0.008293   \n",
       "Dst Port                            0.004468                    0.010882   \n",
       "Protocol                           -0.023051                   -0.020883   \n",
       "Flow Duration                       0.072527                    0.057006   \n",
       "Total Fwd Packet                    0.457390                    0.635688   \n",
       "\n",
       "                  Fwd Packet Length Max  Fwd Packet Length Min  ...  \\\n",
       "Src Port                       0.076338              -0.090378  ...   \n",
       "Dst Port                       0.004597              -0.178557  ...   \n",
       "Protocol                      -0.195232               0.563995  ...   \n",
       "Flow Duration                  0.340708              -0.069027  ...   \n",
       "Total Fwd Packet               0.125570              -0.020993  ...   \n",
       "\n",
       "                  Fwd Seg Size Min  Active Mean  Active Std  Active Max  \\\n",
       "Src Port                  0.138797          NaN         NaN         NaN   \n",
       "Dst Port                  0.246108          NaN         NaN         NaN   \n",
       "Protocol                 -0.872453          NaN         NaN         NaN   \n",
       "Flow Duration             0.240543          NaN         NaN         NaN   \n",
       "Total Fwd Packet          0.029666          NaN         NaN         NaN   \n",
       "\n",
       "                  Active Min  Idle Mean  Idle Std  Idle Max  Idle Min  \\\n",
       "Src Port                 NaN   0.072779  0.058524  0.077511  0.030946   \n",
       "Dst Port                 NaN   0.070405 -0.000599  0.065079  0.060697   \n",
       "Protocol                 NaN  -0.222981 -0.155942 -0.236992 -0.129667   \n",
       "Flow Duration            NaN   0.504973  0.127447  0.505699  0.408706   \n",
       "Total Fwd Packet         NaN   0.066359 -0.017741  0.062186  0.073961   \n",
       "\n",
       "                     Label  \n",
       "Src Port         -0.049322  \n",
       "Dst Port         -0.291576  \n",
       "Protocol          0.404986  \n",
       "Flow Duration    -0.069622  \n",
       "Total Fwd Packet  0.039563  \n",
       "\n",
       "[5 rows x 80 columns]"
      ]
     },
     "execution_count": 17,
     "metadata": {},
     "output_type": "execute_result"
    }
   ],
   "source": [
    "#Finding correlation among columns\n",
    "cor = df.corr()\n",
    "cor.head()"
   ]
  },
  {
   "cell_type": "code",
   "execution_count": 18,
   "metadata": {
    "id": "Hy2IXx9hQAh9",
    "outputId": "75f4fe77-7c92-4358-ce26-d547793ebb38"
   },
   "outputs": [
    {
     "name": "stdout",
     "output_type": "stream",
     "text": [
      "cols are:  {'Subflow Fwd Bytes', 'Total Length of Bwd Packet', 'Fwd Packet Length Std', 'Bwd Header Length', 'Fwd IAT Max', 'Bwd Packets/s', 'Fwd Header Length', 'Bwd IAT Total', 'Idle Max', 'Subflow Bwd Bytes', 'Fwd IAT Mean', 'Idle Min', 'Fwd Packets/s', 'Bwd Segment Size Avg', 'Packet Length Max', 'ACK Flag Count', 'Flow IAT Max', 'Fwd Segment Size Avg', 'Bwd Packet Length Std', 'Fwd IAT Total', 'Packet Length Std', 'Bwd IAT Mean', 'Average Packet Size', 'Bwd Packet/Bulk Avg'}\n",
      "no of features:  24\n"
     ]
    }
   ],
   "source": [
    "#deleting columns which have r-value>9\n",
    "col_cor = set()\n",
    "for i in range(len(cor.columns)):\n",
    "      for j in range(i):\n",
    "        if (abs(cor.iloc[i,j]>=0.8)) and (cor.columns[j] not in col_cor):\n",
    "            col_name = cor.columns[i]\n",
    "            col_cor.add(col_name)\n",
    "            \n",
    "\n",
    "print(\"cols are: \",col_cor)\n",
    "print(\"no of features: \", len(col_cor))"
   ]
  },
  {
   "cell_type": "code",
   "execution_count": 19,
   "metadata": {
    "id": "b8XiFteZQAiA"
   },
   "outputs": [],
   "source": [
    "df= df.drop(col_cor,axis=1)"
   ]
  },
  {
   "cell_type": "code",
   "execution_count": 20,
   "metadata": {
    "id": "uQPkQs9yQAiB",
    "outputId": "1f0eda81-e6eb-446a-b9b7-3f5a4c7865fb"
   },
   "outputs": [
    {
     "data": {
      "text/plain": [
       "(141483, 61)"
      ]
     },
     "execution_count": 20,
     "metadata": {},
     "output_type": "execute_result"
    }
   ],
   "source": [
    "df.shape"
   ]
  },
  {
   "cell_type": "code",
   "execution_count": 21,
   "metadata": {
    "id": "8rolh6CZQAiG",
    "outputId": "847c4992-a94c-4e22-8d26-64706b754544"
   },
   "outputs": [
    {
     "name": "stdout",
     "output_type": "stream",
     "text": [
      "The IQR of all data:  Src Port                      2.083500e+04\n",
      "Dst Port                      3.994000e+04\n",
      "Protocol                      1.100000e+01\n",
      "Flow Duration                 1.182233e+07\n",
      "Total Fwd Packet              3.000000e+00\n",
      "Total Bwd packets             3.000000e+00\n",
      "Total Length of Fwd Packet    2.160000e+02\n",
      "Fwd Packet Length Max         1.030000e+02\n",
      "Fwd Packet Length Min         3.100000e+01\n",
      "Fwd Packet Length Mean        4.500000e+01\n",
      "Bwd Packet Length Max         2.130000e+02\n",
      "Bwd Packet Length Min         0.000000e+00\n",
      "Bwd Packet Length Mean        9.700000e+01\n",
      "Flow Bytes/s                  9.908260e+02\n",
      "Flow Packets/s                3.950545e+02\n",
      "Flow IAT Mean                 1.879835e+06\n",
      "Flow IAT Std                  2.213898e+06\n",
      "Flow IAT Min                  1.291215e+05\n",
      "Fwd IAT Std                   1.441643e+06\n",
      "Fwd IAT Min                   1.026500e+05\n",
      "Bwd IAT Std                   4.602714e+04\n",
      "Bwd IAT Max                   7.352025e+05\n",
      "Bwd IAT Min                   3.400000e+01\n",
      "Fwd PSH Flags                 0.000000e+00\n",
      "Bwd PSH Flags                 0.000000e+00\n",
      "Fwd URG Flags                 0.000000e+00\n",
      "Bwd URG Flags                 0.000000e+00\n",
      "Packet Length Min             2.900000e+01\n",
      "Packet Length Mean            9.594393e+01\n",
      "Packet Length Variance        1.408149e+04\n",
      "FIN Flag Count                1.000000e+00\n",
      "SYN Flag Count                0.000000e+00\n",
      "RST Flag Count                0.000000e+00\n",
      "PSH Flag Count                2.000000e+00\n",
      "URG Flag Count                0.000000e+00\n",
      "CWE Flag Count                0.000000e+00\n",
      "ECE Flag Count                0.000000e+00\n",
      "Down/Up Ratio                 1.000000e+00\n",
      "Fwd Bytes/Bulk Avg            0.000000e+00\n",
      "Fwd Packet/Bulk Avg           0.000000e+00\n",
      "Fwd Bulk Rate Avg             0.000000e+00\n",
      "Bwd Bytes/Bulk Avg            0.000000e+00\n",
      "Bwd Bulk Rate Avg             0.000000e+00\n",
      "Subflow Fwd Packets           1.000000e+00\n",
      "Subflow Bwd Packets           0.000000e+00\n",
      "FWD Init Win Bytes            1.457000e+04\n",
      "Bwd Init Win Bytes            1.047000e+03\n",
      "Fwd Act Data Pkts             2.000000e+00\n",
      "Fwd Seg Size Min              1.200000e+01\n",
      "Active Mean                   0.000000e+00\n",
      "Active Std                    0.000000e+00\n",
      "Active Max                    0.000000e+00\n",
      "Active Min                    0.000000e+00\n",
      "Idle Mean                     1.460000e+15\n",
      "Idle Std                      1.033608e+07\n",
      "Label                         1.000000e+00\n",
      "dtype: float64\n"
     ]
    }
   ],
   "source": [
    "#Finding inter quartile range\n",
    "Q1 = df.quantile(0.25)\n",
    "Q3 = df.quantile(0.75)\n",
    "IQR = Q3-Q1\n",
    "print(\"The IQR of all data: \",IQR)"
   ]
  },
  {
   "cell_type": "code",
   "execution_count": 22,
   "metadata": {
    "id": "9WiU2J2-QAiI",
    "outputId": "6ae9d8b9-933d-49b5-ea19-18399a7a3940"
   },
   "outputs": [
    {
     "data": {
      "text/html": [
       "<div>\n",
       "<style scoped>\n",
       "    .dataframe tbody tr th:only-of-type {\n",
       "        vertical-align: middle;\n",
       "    }\n",
       "\n",
       "    .dataframe tbody tr th {\n",
       "        vertical-align: top;\n",
       "    }\n",
       "\n",
       "    .dataframe thead th {\n",
       "        text-align: right;\n",
       "    }\n",
       "</style>\n",
       "<table border=\"1\" class=\"dataframe\">\n",
       "  <thead>\n",
       "    <tr style=\"text-align: right;\">\n",
       "      <th></th>\n",
       "      <th>Flow ID</th>\n",
       "      <th>Src IP</th>\n",
       "      <th>Src Port</th>\n",
       "      <th>Dst IP</th>\n",
       "      <th>Dst Port</th>\n",
       "      <th>Protocol</th>\n",
       "      <th>Timestamp</th>\n",
       "      <th>Flow Duration</th>\n",
       "      <th>Total Fwd Packet</th>\n",
       "      <th>Total Bwd packets</th>\n",
       "      <th>...</th>\n",
       "      <th>Fwd Act Data Pkts</th>\n",
       "      <th>Fwd Seg Size Min</th>\n",
       "      <th>Active Mean</th>\n",
       "      <th>Active Std</th>\n",
       "      <th>Active Max</th>\n",
       "      <th>Active Min</th>\n",
       "      <th>Idle Mean</th>\n",
       "      <th>Idle Std</th>\n",
       "      <th>Label</th>\n",
       "      <th>Label.1</th>\n",
       "    </tr>\n",
       "  </thead>\n",
       "  <tbody>\n",
       "    <tr>\n",
       "      <th>1087</th>\n",
       "      <td>10.152.152.11-37.252.170.75-47033-443-6</td>\n",
       "      <td>10.152.152.11</td>\n",
       "      <td>47033</td>\n",
       "      <td>37.252.170.75</td>\n",
       "      <td>443</td>\n",
       "      <td>6</td>\n",
       "      <td>24-02-2016 14:09</td>\n",
       "      <td>2385503</td>\n",
       "      <td>3</td>\n",
       "      <td>0</td>\n",
       "      <td>...</td>\n",
       "      <td>1</td>\n",
       "      <td>20</td>\n",
       "      <td>0</td>\n",
       "      <td>0</td>\n",
       "      <td>0</td>\n",
       "      <td>0</td>\n",
       "      <td>0.0</td>\n",
       "      <td>0.0</td>\n",
       "      <td>0</td>\n",
       "      <td>BROWSING</td>\n",
       "    </tr>\n",
       "    <tr>\n",
       "      <th>1130</th>\n",
       "      <td>10.152.152.11-216.58.209.130-41698-80-6</td>\n",
       "      <td>10.152.152.11</td>\n",
       "      <td>41698</td>\n",
       "      <td>216.58.209.130</td>\n",
       "      <td>80</td>\n",
       "      <td>6</td>\n",
       "      <td>24-02-2016 14:11</td>\n",
       "      <td>2535</td>\n",
       "      <td>1</td>\n",
       "      <td>1</td>\n",
       "      <td>...</td>\n",
       "      <td>0</td>\n",
       "      <td>20</td>\n",
       "      <td>0</td>\n",
       "      <td>0</td>\n",
       "      <td>0</td>\n",
       "      <td>0</td>\n",
       "      <td>0.0</td>\n",
       "      <td>0.0</td>\n",
       "      <td>0</td>\n",
       "      <td>BROWSING</td>\n",
       "    </tr>\n",
       "    <tr>\n",
       "      <th>3627</th>\n",
       "      <td>10.152.152.11-195.138.255.8-37790-80-6</td>\n",
       "      <td>10.152.152.11</td>\n",
       "      <td>37790</td>\n",
       "      <td>195.138.255.8</td>\n",
       "      <td>80</td>\n",
       "      <td>6</td>\n",
       "      <td>24-02-2016 14:25</td>\n",
       "      <td>4316</td>\n",
       "      <td>1</td>\n",
       "      <td>1</td>\n",
       "      <td>...</td>\n",
       "      <td>0</td>\n",
       "      <td>20</td>\n",
       "      <td>0</td>\n",
       "      <td>0</td>\n",
       "      <td>0</td>\n",
       "      <td>0</td>\n",
       "      <td>0.0</td>\n",
       "      <td>0.0</td>\n",
       "      <td>0</td>\n",
       "      <td>BROWSING</td>\n",
       "    </tr>\n",
       "    <tr>\n",
       "      <th>4241</th>\n",
       "      <td>10.152.152.11-68.171.169.171-58871-80-6</td>\n",
       "      <td>10.152.152.11</td>\n",
       "      <td>58871</td>\n",
       "      <td>68.171.169.171</td>\n",
       "      <td>80</td>\n",
       "      <td>6</td>\n",
       "      <td>24-02-2016 13:37</td>\n",
       "      <td>12951</td>\n",
       "      <td>2</td>\n",
       "      <td>0</td>\n",
       "      <td>...</td>\n",
       "      <td>0</td>\n",
       "      <td>20</td>\n",
       "      <td>0</td>\n",
       "      <td>0</td>\n",
       "      <td>0</td>\n",
       "      <td>0</td>\n",
       "      <td>0.0</td>\n",
       "      <td>0.0</td>\n",
       "      <td>0</td>\n",
       "      <td>BROWSING</td>\n",
       "    </tr>\n",
       "    <tr>\n",
       "      <th>4242</th>\n",
       "      <td>10.152.152.11-174.123.37.171-45179-80-6</td>\n",
       "      <td>10.152.152.11</td>\n",
       "      <td>45179</td>\n",
       "      <td>174.123.37.171</td>\n",
       "      <td>80</td>\n",
       "      <td>6</td>\n",
       "      <td>24-02-2016 13:37</td>\n",
       "      <td>17742</td>\n",
       "      <td>2</td>\n",
       "      <td>0</td>\n",
       "      <td>...</td>\n",
       "      <td>0</td>\n",
       "      <td>20</td>\n",
       "      <td>0</td>\n",
       "      <td>0</td>\n",
       "      <td>0</td>\n",
       "      <td>0</td>\n",
       "      <td>0.0</td>\n",
       "      <td>0.0</td>\n",
       "      <td>0</td>\n",
       "      <td>BROWSING</td>\n",
       "    </tr>\n",
       "  </tbody>\n",
       "</table>\n",
       "<p>5 rows × 61 columns</p>\n",
       "</div>"
      ],
      "text/plain": [
       "                                      Flow ID         Src IP  Src Port  \\\n",
       "1087  10.152.152.11-37.252.170.75-47033-443-6  10.152.152.11     47033   \n",
       "1130  10.152.152.11-216.58.209.130-41698-80-6  10.152.152.11     41698   \n",
       "3627   10.152.152.11-195.138.255.8-37790-80-6  10.152.152.11     37790   \n",
       "4241  10.152.152.11-68.171.169.171-58871-80-6  10.152.152.11     58871   \n",
       "4242  10.152.152.11-174.123.37.171-45179-80-6  10.152.152.11     45179   \n",
       "\n",
       "              Dst IP  Dst Port  Protocol         Timestamp  Flow Duration  \\\n",
       "1087   37.252.170.75       443         6  24-02-2016 14:09        2385503   \n",
       "1130  216.58.209.130        80         6  24-02-2016 14:11           2535   \n",
       "3627   195.138.255.8        80         6  24-02-2016 14:25           4316   \n",
       "4241  68.171.169.171        80         6  24-02-2016 13:37          12951   \n",
       "4242  174.123.37.171        80         6  24-02-2016 13:37          17742   \n",
       "\n",
       "      Total Fwd Packet  Total Bwd packets  ...  Fwd Act Data Pkts  \\\n",
       "1087                 3                  0  ...                  1   \n",
       "1130                 1                  1  ...                  0   \n",
       "3627                 1                  1  ...                  0   \n",
       "4241                 2                  0  ...                  0   \n",
       "4242                 2                  0  ...                  0   \n",
       "\n",
       "      Fwd Seg Size Min  Active Mean  Active Std  Active Max  Active Min  \\\n",
       "1087                20            0           0           0           0   \n",
       "1130                20            0           0           0           0   \n",
       "3627                20            0           0           0           0   \n",
       "4241                20            0           0           0           0   \n",
       "4242                20            0           0           0           0   \n",
       "\n",
       "      Idle Mean  Idle Std  Label   Label.1  \n",
       "1087        0.0       0.0      0  BROWSING  \n",
       "1130        0.0       0.0      0  BROWSING  \n",
       "3627        0.0       0.0      0  BROWSING  \n",
       "4241        0.0       0.0      0  BROWSING  \n",
       "4242        0.0       0.0      0  BROWSING  \n",
       "\n",
       "[5 rows x 61 columns]"
      ]
     },
     "execution_count": 22,
     "metadata": {},
     "output_type": "execute_result"
    }
   ],
   "source": [
    "#Dropping the outliers\n",
    "df_new = df[~((df < (Q1 - 1.5*IQR)) | (df > (Q3 + 1.5*IQR))).any(axis=1)]\n",
    "df_new.head()"
   ]
  },
  {
   "cell_type": "code",
   "execution_count": 23,
   "metadata": {
    "id": "rOQHYkuBQAiL",
    "outputId": "2bc34a73-6ca2-44b0-eea0-c681f535c419"
   },
   "outputs": [
    {
     "data": {
      "text/plain": [
       "(9014, 61)"
      ]
     },
     "execution_count": 23,
     "metadata": {},
     "output_type": "execute_result"
    }
   ],
   "source": [
    "df_new.shape"
   ]
  },
  {
   "cell_type": "code",
   "execution_count": 24,
   "metadata": {
    "id": "DowstFuKQAiM"
   },
   "outputs": [],
   "source": [
    "df_new.to_csv('preprocessed.csv', encoding='utf-8')"
   ]
  },
  {
   "cell_type": "markdown",
   "metadata": {
    "id": "RI8OQGhnQAiN"
   },
   "source": [
    "# Feature Engineering and selection"
   ]
  },
  {
   "cell_type": "code",
   "execution_count": 25,
   "metadata": {
    "id": "NDukx8ZKQAiR",
    "outputId": "896e95ad-137e-495c-fb88-95ba5aa4def4"
   },
   "outputs": [
    {
     "data": {
      "text/html": [
       "<div>\n",
       "<style scoped>\n",
       "    .dataframe tbody tr th:only-of-type {\n",
       "        vertical-align: middle;\n",
       "    }\n",
       "\n",
       "    .dataframe tbody tr th {\n",
       "        vertical-align: top;\n",
       "    }\n",
       "\n",
       "    .dataframe thead th {\n",
       "        text-align: right;\n",
       "    }\n",
       "</style>\n",
       "<table border=\"1\" class=\"dataframe\">\n",
       "  <thead>\n",
       "    <tr style=\"text-align: right;\">\n",
       "      <th></th>\n",
       "      <th>Flow ID</th>\n",
       "      <th>Src IP</th>\n",
       "      <th>Src Port</th>\n",
       "      <th>Dst IP</th>\n",
       "      <th>Dst Port</th>\n",
       "      <th>Protocol</th>\n",
       "      <th>Timestamp</th>\n",
       "      <th>Flow Duration</th>\n",
       "      <th>Total Fwd Packet</th>\n",
       "      <th>Total Bwd packets</th>\n",
       "      <th>...</th>\n",
       "      <th>Fwd Act Data Pkts</th>\n",
       "      <th>Fwd Seg Size Min</th>\n",
       "      <th>Active Mean</th>\n",
       "      <th>Active Std</th>\n",
       "      <th>Active Max</th>\n",
       "      <th>Active Min</th>\n",
       "      <th>Idle Mean</th>\n",
       "      <th>Idle Std</th>\n",
       "      <th>Label</th>\n",
       "      <th>Label.1</th>\n",
       "    </tr>\n",
       "  </thead>\n",
       "  <tbody>\n",
       "    <tr>\n",
       "      <th>1087</th>\n",
       "      <td>10.152.152.11-37.252.170.75-47033-443-6</td>\n",
       "      <td>10.152.152.11</td>\n",
       "      <td>47033</td>\n",
       "      <td>37.252.170.75</td>\n",
       "      <td>443</td>\n",
       "      <td>6</td>\n",
       "      <td>24-02-2016 14:09</td>\n",
       "      <td>2385503</td>\n",
       "      <td>3</td>\n",
       "      <td>0</td>\n",
       "      <td>...</td>\n",
       "      <td>1</td>\n",
       "      <td>20</td>\n",
       "      <td>0</td>\n",
       "      <td>0</td>\n",
       "      <td>0</td>\n",
       "      <td>0</td>\n",
       "      <td>0.0</td>\n",
       "      <td>0.0</td>\n",
       "      <td>0</td>\n",
       "      <td>BROWSING</td>\n",
       "    </tr>\n",
       "    <tr>\n",
       "      <th>1130</th>\n",
       "      <td>10.152.152.11-216.58.209.130-41698-80-6</td>\n",
       "      <td>10.152.152.11</td>\n",
       "      <td>41698</td>\n",
       "      <td>216.58.209.130</td>\n",
       "      <td>80</td>\n",
       "      <td>6</td>\n",
       "      <td>24-02-2016 14:11</td>\n",
       "      <td>2535</td>\n",
       "      <td>1</td>\n",
       "      <td>1</td>\n",
       "      <td>...</td>\n",
       "      <td>0</td>\n",
       "      <td>20</td>\n",
       "      <td>0</td>\n",
       "      <td>0</td>\n",
       "      <td>0</td>\n",
       "      <td>0</td>\n",
       "      <td>0.0</td>\n",
       "      <td>0.0</td>\n",
       "      <td>0</td>\n",
       "      <td>BROWSING</td>\n",
       "    </tr>\n",
       "    <tr>\n",
       "      <th>3627</th>\n",
       "      <td>10.152.152.11-195.138.255.8-37790-80-6</td>\n",
       "      <td>10.152.152.11</td>\n",
       "      <td>37790</td>\n",
       "      <td>195.138.255.8</td>\n",
       "      <td>80</td>\n",
       "      <td>6</td>\n",
       "      <td>24-02-2016 14:25</td>\n",
       "      <td>4316</td>\n",
       "      <td>1</td>\n",
       "      <td>1</td>\n",
       "      <td>...</td>\n",
       "      <td>0</td>\n",
       "      <td>20</td>\n",
       "      <td>0</td>\n",
       "      <td>0</td>\n",
       "      <td>0</td>\n",
       "      <td>0</td>\n",
       "      <td>0.0</td>\n",
       "      <td>0.0</td>\n",
       "      <td>0</td>\n",
       "      <td>BROWSING</td>\n",
       "    </tr>\n",
       "    <tr>\n",
       "      <th>4241</th>\n",
       "      <td>10.152.152.11-68.171.169.171-58871-80-6</td>\n",
       "      <td>10.152.152.11</td>\n",
       "      <td>58871</td>\n",
       "      <td>68.171.169.171</td>\n",
       "      <td>80</td>\n",
       "      <td>6</td>\n",
       "      <td>24-02-2016 13:37</td>\n",
       "      <td>12951</td>\n",
       "      <td>2</td>\n",
       "      <td>0</td>\n",
       "      <td>...</td>\n",
       "      <td>0</td>\n",
       "      <td>20</td>\n",
       "      <td>0</td>\n",
       "      <td>0</td>\n",
       "      <td>0</td>\n",
       "      <td>0</td>\n",
       "      <td>0.0</td>\n",
       "      <td>0.0</td>\n",
       "      <td>0</td>\n",
       "      <td>BROWSING</td>\n",
       "    </tr>\n",
       "    <tr>\n",
       "      <th>4242</th>\n",
       "      <td>10.152.152.11-174.123.37.171-45179-80-6</td>\n",
       "      <td>10.152.152.11</td>\n",
       "      <td>45179</td>\n",
       "      <td>174.123.37.171</td>\n",
       "      <td>80</td>\n",
       "      <td>6</td>\n",
       "      <td>24-02-2016 13:37</td>\n",
       "      <td>17742</td>\n",
       "      <td>2</td>\n",
       "      <td>0</td>\n",
       "      <td>...</td>\n",
       "      <td>0</td>\n",
       "      <td>20</td>\n",
       "      <td>0</td>\n",
       "      <td>0</td>\n",
       "      <td>0</td>\n",
       "      <td>0</td>\n",
       "      <td>0.0</td>\n",
       "      <td>0.0</td>\n",
       "      <td>0</td>\n",
       "      <td>BROWSING</td>\n",
       "    </tr>\n",
       "  </tbody>\n",
       "</table>\n",
       "<p>5 rows × 61 columns</p>\n",
       "</div>"
      ],
      "text/plain": [
       "                                      Flow ID         Src IP  Src Port  \\\n",
       "1087  10.152.152.11-37.252.170.75-47033-443-6  10.152.152.11     47033   \n",
       "1130  10.152.152.11-216.58.209.130-41698-80-6  10.152.152.11     41698   \n",
       "3627   10.152.152.11-195.138.255.8-37790-80-6  10.152.152.11     37790   \n",
       "4241  10.152.152.11-68.171.169.171-58871-80-6  10.152.152.11     58871   \n",
       "4242  10.152.152.11-174.123.37.171-45179-80-6  10.152.152.11     45179   \n",
       "\n",
       "              Dst IP  Dst Port  Protocol         Timestamp  Flow Duration  \\\n",
       "1087   37.252.170.75       443         6  24-02-2016 14:09        2385503   \n",
       "1130  216.58.209.130        80         6  24-02-2016 14:11           2535   \n",
       "3627   195.138.255.8        80         6  24-02-2016 14:25           4316   \n",
       "4241  68.171.169.171        80         6  24-02-2016 13:37          12951   \n",
       "4242  174.123.37.171        80         6  24-02-2016 13:37          17742   \n",
       "\n",
       "      Total Fwd Packet  Total Bwd packets  ...  Fwd Act Data Pkts  \\\n",
       "1087                 3                  0  ...                  1   \n",
       "1130                 1                  1  ...                  0   \n",
       "3627                 1                  1  ...                  0   \n",
       "4241                 2                  0  ...                  0   \n",
       "4242                 2                  0  ...                  0   \n",
       "\n",
       "      Fwd Seg Size Min  Active Mean  Active Std  Active Max  Active Min  \\\n",
       "1087                20            0           0           0           0   \n",
       "1130                20            0           0           0           0   \n",
       "3627                20            0           0           0           0   \n",
       "4241                20            0           0           0           0   \n",
       "4242                20            0           0           0           0   \n",
       "\n",
       "      Idle Mean  Idle Std  Label   Label.1  \n",
       "1087        0.0       0.0      0  BROWSING  \n",
       "1130        0.0       0.0      0  BROWSING  \n",
       "3627        0.0       0.0      0  BROWSING  \n",
       "4241        0.0       0.0      0  BROWSING  \n",
       "4242        0.0       0.0      0  BROWSING  \n",
       "\n",
       "[5 rows x 61 columns]"
      ]
     },
     "execution_count": 25,
     "metadata": {},
     "output_type": "execute_result"
    }
   ],
   "source": [
    "df_new.head()\n"
   ]
  },
  {
   "cell_type": "code",
   "execution_count": 26,
   "metadata": {
    "id": "i49G7VkaQAiS",
    "outputId": "3e94e384-39d1-41b0-db91-33fd2b00587e"
   },
   "outputs": [
    {
     "name": "stdout",
     "output_type": "stream",
     "text": [
      "Index(['Flow ID', 'Src IP', 'Src Port', 'Dst IP', 'Dst Port', 'Protocol',\n",
      "       'Timestamp', 'Flow Duration', 'Total Fwd Packet', 'Total Bwd packets',\n",
      "       'Total Length of Fwd Packet', 'Fwd Packet Length Max',\n",
      "       'Fwd Packet Length Min', 'Fwd Packet Length Mean',\n",
      "       'Bwd Packet Length Max', 'Bwd Packet Length Min',\n",
      "       'Bwd Packet Length Mean', 'Flow Bytes/s', 'Flow Packets/s',\n",
      "       'Flow IAT Mean', 'Flow IAT Std', 'Flow IAT Min', 'Fwd IAT Std',\n",
      "       'Fwd IAT Min', 'Bwd IAT Std', 'Bwd IAT Max', 'Bwd IAT Min',\n",
      "       'Fwd PSH Flags', 'Bwd PSH Flags', 'Fwd URG Flags', 'Bwd URG Flags',\n",
      "       'Packet Length Min', 'Packet Length Mean', 'Packet Length Variance',\n",
      "       'FIN Flag Count', 'SYN Flag Count', 'RST Flag Count', 'PSH Flag Count',\n",
      "       'URG Flag Count', 'CWE Flag Count', 'ECE Flag Count', 'Down/Up Ratio',\n",
      "       'Fwd Bytes/Bulk Avg', 'Fwd Packet/Bulk Avg', 'Fwd Bulk Rate Avg',\n",
      "       'Bwd Bytes/Bulk Avg', 'Bwd Bulk Rate Avg', 'Subflow Fwd Packets',\n",
      "       'Subflow Bwd Packets', 'FWD Init Win Bytes', 'Bwd Init Win Bytes',\n",
      "       'Fwd Act Data Pkts', 'Fwd Seg Size Min', 'Active Mean', 'Active Std',\n",
      "       'Active Max', 'Active Min', 'Idle Mean', 'Idle Std', 'Label',\n",
      "       'Label.1'],\n",
      "      dtype='object')\n"
     ]
    }
   ],
   "source": [
    "print(df_new.columns[:])"
   ]
  },
  {
   "cell_type": "markdown",
   "metadata": {
    "id": "Y3rX0O2BQAiT"
   },
   "source": [
    "# Dropping features from manual selection "
   ]
  },
  {
   "cell_type": "code",
   "execution_count": 27,
   "metadata": {
    "id": "vL7i1TWiQAiU"
   },
   "outputs": [],
   "source": [
    "#from the above set of the features , The below features can discarded as those less importance and cannot contribute to the \n",
    "#desired prediction task\n",
    "\n",
    "#1 Flow ID\n",
    "#2 Src IP   \n",
    "#3 Dst IP  \n",
    "#4 Timestamp\n",
    "\n",
    "X2= df_new\n",
    "X = df_new[df_new.columns[:-1]]\n",
    "X=X.drop(['Flow ID','Src IP','Dst IP','Timestamp'],axis=1)\n",
    "X2=X2.drop(['Flow ID','Src IP','Dst IP','Timestamp'],axis=1)\n",
    "X_col_names=X.columns"
   ]
  },
  {
   "cell_type": "markdown",
   "metadata": {},
   "source": [
    "# Anomaly detection using isolation forest"
   ]
  },
  {
   "cell_type": "code",
   "execution_count": 28,
   "metadata": {},
   "outputs": [
    {
     "name": "stdout",
     "output_type": "stream",
     "text": [
      "Result of Src Port:\n",
      "{'bootstrap': False, 'contamination': 0.2, 'max_features': 1.0, 'max_samples': 'auto', 'n_estimators': 100, 'n_jobs': None, 'random_state': RandomState(MT19937) at 0x1F833A24048, 'verbose': 0, 'warm_start': False}\n",
      "Result of Dst Port:\n",
      "{'bootstrap': False, 'contamination': 0.2, 'max_features': 1.0, 'max_samples': 'auto', 'n_estimators': 100, 'n_jobs': None, 'random_state': RandomState(MT19937) at 0x1F833A24048, 'verbose': 0, 'warm_start': False}\n",
      "Result of Protocol:\n",
      "{'bootstrap': False, 'contamination': 0.2, 'max_features': 1.0, 'max_samples': 'auto', 'n_estimators': 100, 'n_jobs': None, 'random_state': RandomState(MT19937) at 0x1F833A24048, 'verbose': 0, 'warm_start': False}\n",
      "Result of Flow Duration:\n",
      "{'bootstrap': False, 'contamination': 0.2, 'max_features': 1.0, 'max_samples': 'auto', 'n_estimators': 100, 'n_jobs': None, 'random_state': RandomState(MT19937) at 0x1F833A24048, 'verbose': 0, 'warm_start': False}\n",
      "Result of Total Fwd Packet:\n",
      "{'bootstrap': False, 'contamination': 0.2, 'max_features': 1.0, 'max_samples': 'auto', 'n_estimators': 100, 'n_jobs': None, 'random_state': RandomState(MT19937) at 0x1F833A24048, 'verbose': 0, 'warm_start': False}\n",
      "Result of Total Bwd packets:\n",
      "{'bootstrap': False, 'contamination': 0.2, 'max_features': 1.0, 'max_samples': 'auto', 'n_estimators': 100, 'n_jobs': None, 'random_state': RandomState(MT19937) at 0x1F833A24048, 'verbose': 0, 'warm_start': False}\n",
      "Result of Total Length of Fwd Packet:\n",
      "{'bootstrap': False, 'contamination': 0.2, 'max_features': 1.0, 'max_samples': 'auto', 'n_estimators': 100, 'n_jobs': None, 'random_state': RandomState(MT19937) at 0x1F833A24048, 'verbose': 0, 'warm_start': False}\n",
      "Result of Fwd Packet Length Max:\n",
      "{'bootstrap': False, 'contamination': 0.2, 'max_features': 1.0, 'max_samples': 'auto', 'n_estimators': 100, 'n_jobs': None, 'random_state': RandomState(MT19937) at 0x1F833A24048, 'verbose': 0, 'warm_start': False}\n",
      "Result of Fwd Packet Length Min:\n",
      "{'bootstrap': False, 'contamination': 0.2, 'max_features': 1.0, 'max_samples': 'auto', 'n_estimators': 100, 'n_jobs': None, 'random_state': RandomState(MT19937) at 0x1F833A24048, 'verbose': 0, 'warm_start': False}\n",
      "Result of Fwd Packet Length Mean:\n",
      "{'bootstrap': False, 'contamination': 0.2, 'max_features': 1.0, 'max_samples': 'auto', 'n_estimators': 100, 'n_jobs': None, 'random_state': RandomState(MT19937) at 0x1F833A24048, 'verbose': 0, 'warm_start': False}\n",
      "Result of Bwd Packet Length Max:\n",
      "{'bootstrap': False, 'contamination': 0.2, 'max_features': 1.0, 'max_samples': 'auto', 'n_estimators': 100, 'n_jobs': None, 'random_state': RandomState(MT19937) at 0x1F833A24048, 'verbose': 0, 'warm_start': False}\n",
      "Result of Bwd Packet Length Min:\n",
      "{'bootstrap': False, 'contamination': 0.2, 'max_features': 1.0, 'max_samples': 'auto', 'n_estimators': 100, 'n_jobs': None, 'random_state': RandomState(MT19937) at 0x1F833A24048, 'verbose': 0, 'warm_start': False}\n",
      "Result of Bwd Packet Length Mean:\n",
      "{'bootstrap': False, 'contamination': 0.2, 'max_features': 1.0, 'max_samples': 'auto', 'n_estimators': 100, 'n_jobs': None, 'random_state': RandomState(MT19937) at 0x1F833A24048, 'verbose': 0, 'warm_start': False}\n",
      "Result of Flow Bytes/s:\n",
      "{'bootstrap': False, 'contamination': 0.2, 'max_features': 1.0, 'max_samples': 'auto', 'n_estimators': 100, 'n_jobs': None, 'random_state': RandomState(MT19937) at 0x1F833A24048, 'verbose': 0, 'warm_start': False}\n",
      "Result of Flow Packets/s:\n",
      "{'bootstrap': False, 'contamination': 0.2, 'max_features': 1.0, 'max_samples': 'auto', 'n_estimators': 100, 'n_jobs': None, 'random_state': RandomState(MT19937) at 0x1F833A24048, 'verbose': 0, 'warm_start': False}\n",
      "Result of Flow IAT Mean:\n",
      "{'bootstrap': False, 'contamination': 0.2, 'max_features': 1.0, 'max_samples': 'auto', 'n_estimators': 100, 'n_jobs': None, 'random_state': RandomState(MT19937) at 0x1F833A24048, 'verbose': 0, 'warm_start': False}\n",
      "Result of Flow IAT Std:\n",
      "{'bootstrap': False, 'contamination': 0.2, 'max_features': 1.0, 'max_samples': 'auto', 'n_estimators': 100, 'n_jobs': None, 'random_state': RandomState(MT19937) at 0x1F833A24048, 'verbose': 0, 'warm_start': False}\n",
      "Result of Flow IAT Min:\n",
      "{'bootstrap': False, 'contamination': 0.2, 'max_features': 1.0, 'max_samples': 'auto', 'n_estimators': 100, 'n_jobs': None, 'random_state': RandomState(MT19937) at 0x1F833A24048, 'verbose': 0, 'warm_start': False}\n",
      "Result of Fwd IAT Std:\n",
      "{'bootstrap': False, 'contamination': 0.2, 'max_features': 1.0, 'max_samples': 'auto', 'n_estimators': 100, 'n_jobs': None, 'random_state': RandomState(MT19937) at 0x1F833A24048, 'verbose': 0, 'warm_start': False}\n",
      "Result of Fwd IAT Min:\n",
      "{'bootstrap': False, 'contamination': 0.2, 'max_features': 1.0, 'max_samples': 'auto', 'n_estimators': 100, 'n_jobs': None, 'random_state': RandomState(MT19937) at 0x1F833A24048, 'verbose': 0, 'warm_start': False}\n",
      "Result of Bwd IAT Std:\n",
      "{'bootstrap': False, 'contamination': 0.2, 'max_features': 1.0, 'max_samples': 'auto', 'n_estimators': 100, 'n_jobs': None, 'random_state': RandomState(MT19937) at 0x1F833A24048, 'verbose': 0, 'warm_start': False}\n",
      "Result of Bwd IAT Max:\n",
      "{'bootstrap': False, 'contamination': 0.2, 'max_features': 1.0, 'max_samples': 'auto', 'n_estimators': 100, 'n_jobs': None, 'random_state': RandomState(MT19937) at 0x1F833A24048, 'verbose': 0, 'warm_start': False}\n",
      "Result of Bwd IAT Min:\n",
      "{'bootstrap': False, 'contamination': 0.2, 'max_features': 1.0, 'max_samples': 'auto', 'n_estimators': 100, 'n_jobs': None, 'random_state': RandomState(MT19937) at 0x1F833A24048, 'verbose': 0, 'warm_start': False}\n",
      "Result of Fwd PSH Flags:\n",
      "{'bootstrap': False, 'contamination': 0.2, 'max_features': 1.0, 'max_samples': 'auto', 'n_estimators': 100, 'n_jobs': None, 'random_state': RandomState(MT19937) at 0x1F833A24048, 'verbose': 0, 'warm_start': False}\n",
      "Result of Bwd PSH Flags:\n",
      "{'bootstrap': False, 'contamination': 0.2, 'max_features': 1.0, 'max_samples': 'auto', 'n_estimators': 100, 'n_jobs': None, 'random_state': RandomState(MT19937) at 0x1F833A24048, 'verbose': 0, 'warm_start': False}\n",
      "Result of Fwd URG Flags:\n",
      "{'bootstrap': False, 'contamination': 0.2, 'max_features': 1.0, 'max_samples': 'auto', 'n_estimators': 100, 'n_jobs': None, 'random_state': RandomState(MT19937) at 0x1F833A24048, 'verbose': 0, 'warm_start': False}\n",
      "Result of Bwd URG Flags:\n",
      "{'bootstrap': False, 'contamination': 0.2, 'max_features': 1.0, 'max_samples': 'auto', 'n_estimators': 100, 'n_jobs': None, 'random_state': RandomState(MT19937) at 0x1F833A24048, 'verbose': 0, 'warm_start': False}\n",
      "Result of Packet Length Min:\n",
      "{'bootstrap': False, 'contamination': 0.2, 'max_features': 1.0, 'max_samples': 'auto', 'n_estimators': 100, 'n_jobs': None, 'random_state': RandomState(MT19937) at 0x1F833A24048, 'verbose': 0, 'warm_start': False}\n",
      "Result of Packet Length Mean:\n",
      "{'bootstrap': False, 'contamination': 0.2, 'max_features': 1.0, 'max_samples': 'auto', 'n_estimators': 100, 'n_jobs': None, 'random_state': RandomState(MT19937) at 0x1F833A24048, 'verbose': 0, 'warm_start': False}\n",
      "Result of Packet Length Variance:\n",
      "{'bootstrap': False, 'contamination': 0.2, 'max_features': 1.0, 'max_samples': 'auto', 'n_estimators': 100, 'n_jobs': None, 'random_state': RandomState(MT19937) at 0x1F833A24048, 'verbose': 0, 'warm_start': False}\n",
      "Result of FIN Flag Count:\n",
      "{'bootstrap': False, 'contamination': 0.2, 'max_features': 1.0, 'max_samples': 'auto', 'n_estimators': 100, 'n_jobs': None, 'random_state': RandomState(MT19937) at 0x1F833A24048, 'verbose': 0, 'warm_start': False}\n",
      "Result of SYN Flag Count:\n",
      "{'bootstrap': False, 'contamination': 0.2, 'max_features': 1.0, 'max_samples': 'auto', 'n_estimators': 100, 'n_jobs': None, 'random_state': RandomState(MT19937) at 0x1F833A24048, 'verbose': 0, 'warm_start': False}\n",
      "Result of RST Flag Count:\n",
      "{'bootstrap': False, 'contamination': 0.2, 'max_features': 1.0, 'max_samples': 'auto', 'n_estimators': 100, 'n_jobs': None, 'random_state': RandomState(MT19937) at 0x1F833A24048, 'verbose': 0, 'warm_start': False}\n",
      "Result of PSH Flag Count:\n",
      "{'bootstrap': False, 'contamination': 0.2, 'max_features': 1.0, 'max_samples': 'auto', 'n_estimators': 100, 'n_jobs': None, 'random_state': RandomState(MT19937) at 0x1F833A24048, 'verbose': 0, 'warm_start': False}\n",
      "Result of URG Flag Count:\n",
      "{'bootstrap': False, 'contamination': 0.2, 'max_features': 1.0, 'max_samples': 'auto', 'n_estimators': 100, 'n_jobs': None, 'random_state': RandomState(MT19937) at 0x1F833A24048, 'verbose': 0, 'warm_start': False}\n"
     ]
    },
    {
     "name": "stdout",
     "output_type": "stream",
     "text": [
      "Result of CWE Flag Count:\n",
      "{'bootstrap': False, 'contamination': 0.2, 'max_features': 1.0, 'max_samples': 'auto', 'n_estimators': 100, 'n_jobs': None, 'random_state': RandomState(MT19937) at 0x1F833A24048, 'verbose': 0, 'warm_start': False}\n",
      "Result of ECE Flag Count:\n",
      "{'bootstrap': False, 'contamination': 0.2, 'max_features': 1.0, 'max_samples': 'auto', 'n_estimators': 100, 'n_jobs': None, 'random_state': RandomState(MT19937) at 0x1F833A24048, 'verbose': 0, 'warm_start': False}\n",
      "Result of Down/Up Ratio:\n",
      "{'bootstrap': False, 'contamination': 0.2, 'max_features': 1.0, 'max_samples': 'auto', 'n_estimators': 100, 'n_jobs': None, 'random_state': RandomState(MT19937) at 0x1F833A24048, 'verbose': 0, 'warm_start': False}\n",
      "Result of Fwd Bytes/Bulk Avg:\n",
      "{'bootstrap': False, 'contamination': 0.2, 'max_features': 1.0, 'max_samples': 'auto', 'n_estimators': 100, 'n_jobs': None, 'random_state': RandomState(MT19937) at 0x1F833A24048, 'verbose': 0, 'warm_start': False}\n",
      "Result of Fwd Packet/Bulk Avg:\n",
      "{'bootstrap': False, 'contamination': 0.2, 'max_features': 1.0, 'max_samples': 'auto', 'n_estimators': 100, 'n_jobs': None, 'random_state': RandomState(MT19937) at 0x1F833A24048, 'verbose': 0, 'warm_start': False}\n",
      "Result of Fwd Bulk Rate Avg:\n",
      "{'bootstrap': False, 'contamination': 0.2, 'max_features': 1.0, 'max_samples': 'auto', 'n_estimators': 100, 'n_jobs': None, 'random_state': RandomState(MT19937) at 0x1F833A24048, 'verbose': 0, 'warm_start': False}\n",
      "Result of Bwd Bytes/Bulk Avg:\n",
      "{'bootstrap': False, 'contamination': 0.2, 'max_features': 1.0, 'max_samples': 'auto', 'n_estimators': 100, 'n_jobs': None, 'random_state': RandomState(MT19937) at 0x1F833A24048, 'verbose': 0, 'warm_start': False}\n",
      "Result of Bwd Bulk Rate Avg:\n",
      "{'bootstrap': False, 'contamination': 0.2, 'max_features': 1.0, 'max_samples': 'auto', 'n_estimators': 100, 'n_jobs': None, 'random_state': RandomState(MT19937) at 0x1F833A24048, 'verbose': 0, 'warm_start': False}\n",
      "Result of Subflow Fwd Packets:\n",
      "{'bootstrap': False, 'contamination': 0.2, 'max_features': 1.0, 'max_samples': 'auto', 'n_estimators': 100, 'n_jobs': None, 'random_state': RandomState(MT19937) at 0x1F833A24048, 'verbose': 0, 'warm_start': False}\n",
      "Result of Subflow Bwd Packets:\n",
      "{'bootstrap': False, 'contamination': 0.2, 'max_features': 1.0, 'max_samples': 'auto', 'n_estimators': 100, 'n_jobs': None, 'random_state': RandomState(MT19937) at 0x1F833A24048, 'verbose': 0, 'warm_start': False}\n",
      "Result of FWD Init Win Bytes:\n",
      "{'bootstrap': False, 'contamination': 0.2, 'max_features': 1.0, 'max_samples': 'auto', 'n_estimators': 100, 'n_jobs': None, 'random_state': RandomState(MT19937) at 0x1F833A24048, 'verbose': 0, 'warm_start': False}\n",
      "Result of Bwd Init Win Bytes:\n",
      "{'bootstrap': False, 'contamination': 0.2, 'max_features': 1.0, 'max_samples': 'auto', 'n_estimators': 100, 'n_jobs': None, 'random_state': RandomState(MT19937) at 0x1F833A24048, 'verbose': 0, 'warm_start': False}\n",
      "Result of Fwd Act Data Pkts:\n",
      "{'bootstrap': False, 'contamination': 0.2, 'max_features': 1.0, 'max_samples': 'auto', 'n_estimators': 100, 'n_jobs': None, 'random_state': RandomState(MT19937) at 0x1F833A24048, 'verbose': 0, 'warm_start': False}\n",
      "Result of Fwd Seg Size Min:\n",
      "{'bootstrap': False, 'contamination': 0.2, 'max_features': 1.0, 'max_samples': 'auto', 'n_estimators': 100, 'n_jobs': None, 'random_state': RandomState(MT19937) at 0x1F833A24048, 'verbose': 0, 'warm_start': False}\n",
      "Result of Active Mean:\n",
      "{'bootstrap': False, 'contamination': 0.2, 'max_features': 1.0, 'max_samples': 'auto', 'n_estimators': 100, 'n_jobs': None, 'random_state': RandomState(MT19937) at 0x1F833A24048, 'verbose': 0, 'warm_start': False}\n",
      "Result of Active Std:\n",
      "{'bootstrap': False, 'contamination': 0.2, 'max_features': 1.0, 'max_samples': 'auto', 'n_estimators': 100, 'n_jobs': None, 'random_state': RandomState(MT19937) at 0x1F833A24048, 'verbose': 0, 'warm_start': False}\n",
      "Result of Active Max:\n",
      "{'bootstrap': False, 'contamination': 0.2, 'max_features': 1.0, 'max_samples': 'auto', 'n_estimators': 100, 'n_jobs': None, 'random_state': RandomState(MT19937) at 0x1F833A24048, 'verbose': 0, 'warm_start': False}\n",
      "Result of Active Min:\n",
      "{'bootstrap': False, 'contamination': 0.2, 'max_features': 1.0, 'max_samples': 'auto', 'n_estimators': 100, 'n_jobs': None, 'random_state': RandomState(MT19937) at 0x1F833A24048, 'verbose': 0, 'warm_start': False}\n",
      "Result of Idle Mean:\n",
      "{'bootstrap': False, 'contamination': 0.2, 'max_features': 1.0, 'max_samples': 'auto', 'n_estimators': 100, 'n_jobs': None, 'random_state': RandomState(MT19937) at 0x1F833A24048, 'verbose': 0, 'warm_start': False}\n",
      "Result of Idle Std:\n",
      "{'bootstrap': False, 'contamination': 0.2, 'max_features': 1.0, 'max_samples': 'auto', 'n_estimators': 100, 'n_jobs': None, 'random_state': RandomState(MT19937) at 0x1F833A24048, 'verbose': 0, 'warm_start': False}\n",
      "Result of Label:\n",
      "{'bootstrap': False, 'contamination': 0.2, 'max_features': 1.0, 'max_samples': 'auto', 'n_estimators': 100, 'n_jobs': None, 'random_state': RandomState(MT19937) at 0x1F833A24048, 'verbose': 0, 'warm_start': False}\n"
     ]
    }
   ],
   "source": [
    "from sklearn.ensemble import IsolationForest\n",
    "\n",
    "random_state = np.random.RandomState(42)\n",
    "\n",
    "model=IsolationForest(n_estimators=100,max_samples='auto',contamination=float(0.2),random_state=random_state)\n",
    "\n",
    "for col in X.columns:\n",
    "        model.fit(X[[col]])\n",
    "        print(\"Result of \" + col + \":\")\n",
    "        print(model.get_params())"
   ]
  },
  {
   "cell_type": "code",
   "execution_count": 29,
   "metadata": {
    "id": "36d3ggk6QAiW",
    "outputId": "51147741-2758-4aae-d8ba-2090bc936588"
   },
   "outputs": [
    {
     "name": "stdout",
     "output_type": "stream",
     "text": [
      "(9014, 56) (9014,)\n",
      "(45591, 56) (45591,)\n",
      "{0: 6513, 5: 6513, 3: 6513, 4: 6513, 1: 6513, 2: 6513, 6: 6513}\n"
     ]
    }
   ],
   "source": [
    "from sklearn.model_selection import train_test_split\n",
    "from sklearn.feature_selection import SelectKBest, chi2, mutual_info_classif\n",
    "from sklearn import preprocessing \n",
    "import imblearn\n",
    "from imblearn.over_sampling import SMOTE\n",
    "\n",
    "# Splitting the features and the target classes\n",
    "Xn=np.asarray(X)[:]\n",
    "Y = df_new['Label.1'][:]\n",
    "\n",
    "# Encoding the labels of the Target classes\n",
    "le = preprocessing.LabelEncoder().fit(Y)\n",
    "Yn= Y = le.transform(Y)\n",
    "print(np.shape(Xn), np.shape(Yn))\n",
    "\n",
    "\n",
    "# Splitting the dataset into test train split\n",
    "X_train, X_test, y_train, y_test = train_test_split(Xn, Yn, test_size=0.20, shuffle=True)\n",
    "\n",
    "#applying SMOTE (Synthetic Minority Oversampling Technique) to overcome the imbalanced classification by to oversample the minority class\n",
    "smote= SMOTE('auto')\n",
    "X_sm,y_sm = smote.fit_resample(X_train, y_train)\n",
    "print(np.shape(X_sm), np.shape(y_sm))\n",
    "\n",
    "# saving the output labels in a dictionary format\n",
    "dic = {}\n",
    "for i in y_sm:\n",
    "    if i in dic.keys():\n",
    "        dic[i]+=1\n",
    "    else:\n",
    "        dic[i]=1\n",
    "print(dic)"
   ]
  },
  {
   "cell_type": "markdown",
   "metadata": {
    "id": "pmdmBPvWQAib"
   },
   "source": [
    "# Selection of Useful features using SelectKBest Class"
   ]
  },
  {
   "cell_type": "code",
   "execution_count": 30,
   "metadata": {
    "id": "Wb-W4Jq-QAic",
    "scrolled": true
   },
   "outputs": [],
   "source": [
    "#SelectKBest class that can be used with a suite of different statistical tests  to select a specific number of features.\n",
    "#chi-squared (chi²) statistical test for non-negative features to select best useful features\n",
    "from sklearn.feature_selection import SelectKBest\n",
    "from sklearn.feature_selection import chi2\n",
    "\n",
    "X_ordered_rank_feat = SelectKBest(score_func=chi2, k='all')\n",
    "X_ordered_feat= X_ordered_rank_feat.fit(X_sm, y_sm)"
   ]
  },
  {
   "cell_type": "code",
   "execution_count": 31,
   "metadata": {
    "id": "CRLRDEktQAiz",
    "outputId": "34c7e757-d10d-4a52-c4e6-1bb4b3418f5b"
   },
   "outputs": [
    {
     "data": {
      "text/html": [
       "<div>\n",
       "<style scoped>\n",
       "    .dataframe tbody tr th:only-of-type {\n",
       "        vertical-align: middle;\n",
       "    }\n",
       "\n",
       "    .dataframe tbody tr th {\n",
       "        vertical-align: top;\n",
       "    }\n",
       "\n",
       "    .dataframe thead th {\n",
       "        text-align: right;\n",
       "    }\n",
       "</style>\n",
       "<table border=\"1\" class=\"dataframe\">\n",
       "  <thead>\n",
       "    <tr style=\"text-align: right;\">\n",
       "      <th></th>\n",
       "      <th>Features</th>\n",
       "      <th>Score</th>\n",
       "    </tr>\n",
       "  </thead>\n",
       "  <tbody>\n",
       "    <tr>\n",
       "      <th>53</th>\n",
       "      <td>Idle Mean</td>\n",
       "      <td>4.593947e+17</td>\n",
       "    </tr>\n",
       "    <tr>\n",
       "      <th>3</th>\n",
       "      <td>Flow Duration</td>\n",
       "      <td>6.290415e+09</td>\n",
       "    </tr>\n",
       "    <tr>\n",
       "      <th>18</th>\n",
       "      <td>Fwd IAT Std</td>\n",
       "      <td>5.427132e+09</td>\n",
       "    </tr>\n",
       "    <tr>\n",
       "      <th>16</th>\n",
       "      <td>Flow IAT Std</td>\n",
       "      <td>5.397861e+09</td>\n",
       "    </tr>\n",
       "    <tr>\n",
       "      <th>15</th>\n",
       "      <td>Flow IAT Mean</td>\n",
       "      <td>2.767340e+09</td>\n",
       "    </tr>\n",
       "    <tr>\n",
       "      <th>1</th>\n",
       "      <td>Dst Port</td>\n",
       "      <td>8.535598e+08</td>\n",
       "    </tr>\n",
       "    <tr>\n",
       "      <th>19</th>\n",
       "      <td>Fwd IAT Min</td>\n",
       "      <td>7.074108e+08</td>\n",
       "    </tr>\n",
       "    <tr>\n",
       "      <th>17</th>\n",
       "      <td>Flow IAT Min</td>\n",
       "      <td>3.154110e+08</td>\n",
       "    </tr>\n",
       "    <tr>\n",
       "      <th>45</th>\n",
       "      <td>FWD Init Win Bytes</td>\n",
       "      <td>1.947240e+08</td>\n",
       "    </tr>\n",
       "    <tr>\n",
       "      <th>0</th>\n",
       "      <td>Src Port</td>\n",
       "      <td>4.210428e+07</td>\n",
       "    </tr>\n",
       "    <tr>\n",
       "      <th>13</th>\n",
       "      <td>Flow Bytes/s</td>\n",
       "      <td>2.295858e+07</td>\n",
       "    </tr>\n",
       "    <tr>\n",
       "      <th>54</th>\n",
       "      <td>Idle Std</td>\n",
       "      <td>8.632010e+06</td>\n",
       "    </tr>\n",
       "    <tr>\n",
       "      <th>46</th>\n",
       "      <td>Bwd Init Win Bytes</td>\n",
       "      <td>6.529863e+06</td>\n",
       "    </tr>\n",
       "    <tr>\n",
       "      <th>29</th>\n",
       "      <td>Packet Length Variance</td>\n",
       "      <td>5.512396e+06</td>\n",
       "    </tr>\n",
       "    <tr>\n",
       "      <th>14</th>\n",
       "      <td>Flow Packets/s</td>\n",
       "      <td>4.605229e+06</td>\n",
       "    </tr>\n",
       "    <tr>\n",
       "      <th>6</th>\n",
       "      <td>Total Length of Fwd Packet</td>\n",
       "      <td>8.486464e+05</td>\n",
       "    </tr>\n",
       "    <tr>\n",
       "      <th>7</th>\n",
       "      <td>Fwd Packet Length Max</td>\n",
       "      <td>7.378945e+05</td>\n",
       "    </tr>\n",
       "    <tr>\n",
       "      <th>9</th>\n",
       "      <td>Fwd Packet Length Mean</td>\n",
       "      <td>3.422155e+05</td>\n",
       "    </tr>\n",
       "    <tr>\n",
       "      <th>28</th>\n",
       "      <td>Packet Length Mean</td>\n",
       "      <td>3.081525e+05</td>\n",
       "    </tr>\n",
       "    <tr>\n",
       "      <th>8</th>\n",
       "      <td>Fwd Packet Length Min</td>\n",
       "      <td>2.752866e+05</td>\n",
       "    </tr>\n",
       "    <tr>\n",
       "      <th>27</th>\n",
       "      <td>Packet Length Min</td>\n",
       "      <td>2.752866e+05</td>\n",
       "    </tr>\n",
       "    <tr>\n",
       "      <th>48</th>\n",
       "      <td>Fwd Seg Size Min</td>\n",
       "      <td>7.484156e+04</td>\n",
       "    </tr>\n",
       "    <tr>\n",
       "      <th>10</th>\n",
       "      <td>Bwd Packet Length Max</td>\n",
       "      <td>4.421582e+04</td>\n",
       "    </tr>\n",
       "    <tr>\n",
       "      <th>22</th>\n",
       "      <td>Bwd IAT Min</td>\n",
       "      <td>3.983252e+04</td>\n",
       "    </tr>\n",
       "    <tr>\n",
       "      <th>21</th>\n",
       "      <td>Bwd IAT Max</td>\n",
       "      <td>3.983252e+04</td>\n",
       "    </tr>\n",
       "    <tr>\n",
       "      <th>55</th>\n",
       "      <td>Label</td>\n",
       "      <td>2.738584e+04</td>\n",
       "    </tr>\n",
       "    <tr>\n",
       "      <th>47</th>\n",
       "      <td>Fwd Act Data Pkts</td>\n",
       "      <td>2.473861e+04</td>\n",
       "    </tr>\n",
       "    <tr>\n",
       "      <th>33</th>\n",
       "      <td>PSH Flag Count</td>\n",
       "      <td>2.330229e+04</td>\n",
       "    </tr>\n",
       "    <tr>\n",
       "      <th>12</th>\n",
       "      <td>Bwd Packet Length Mean</td>\n",
       "      <td>2.210791e+04</td>\n",
       "    </tr>\n",
       "    <tr>\n",
       "      <th>2</th>\n",
       "      <td>Protocol</td>\n",
       "      <td>1.872802e+04</td>\n",
       "    </tr>\n",
       "    <tr>\n",
       "      <th>37</th>\n",
       "      <td>Down/Up Ratio</td>\n",
       "      <td>1.703485e+04</td>\n",
       "    </tr>\n",
       "    <tr>\n",
       "      <th>5</th>\n",
       "      <td>Total Bwd packets</td>\n",
       "      <td>1.692885e+04</td>\n",
       "    </tr>\n",
       "    <tr>\n",
       "      <th>43</th>\n",
       "      <td>Subflow Fwd Packets</td>\n",
       "      <td>1.066239e+04</td>\n",
       "    </tr>\n",
       "    <tr>\n",
       "      <th>4</th>\n",
       "      <td>Total Fwd Packet</td>\n",
       "      <td>8.774102e+03</td>\n",
       "    </tr>\n",
       "    <tr>\n",
       "      <th>30</th>\n",
       "      <td>FIN Flag Count</td>\n",
       "      <td>2.271838e+03</td>\n",
       "    </tr>\n",
       "    <tr>\n",
       "      <th>11</th>\n",
       "      <td>Bwd Packet Length Min</td>\n",
       "      <td>NaN</td>\n",
       "    </tr>\n",
       "    <tr>\n",
       "      <th>20</th>\n",
       "      <td>Bwd IAT Std</td>\n",
       "      <td>NaN</td>\n",
       "    </tr>\n",
       "    <tr>\n",
       "      <th>23</th>\n",
       "      <td>Fwd PSH Flags</td>\n",
       "      <td>NaN</td>\n",
       "    </tr>\n",
       "    <tr>\n",
       "      <th>24</th>\n",
       "      <td>Bwd PSH Flags</td>\n",
       "      <td>NaN</td>\n",
       "    </tr>\n",
       "    <tr>\n",
       "      <th>25</th>\n",
       "      <td>Fwd URG Flags</td>\n",
       "      <td>NaN</td>\n",
       "    </tr>\n",
       "    <tr>\n",
       "      <th>26</th>\n",
       "      <td>Bwd URG Flags</td>\n",
       "      <td>NaN</td>\n",
       "    </tr>\n",
       "    <tr>\n",
       "      <th>31</th>\n",
       "      <td>SYN Flag Count</td>\n",
       "      <td>NaN</td>\n",
       "    </tr>\n",
       "    <tr>\n",
       "      <th>32</th>\n",
       "      <td>RST Flag Count</td>\n",
       "      <td>NaN</td>\n",
       "    </tr>\n",
       "    <tr>\n",
       "      <th>34</th>\n",
       "      <td>URG Flag Count</td>\n",
       "      <td>NaN</td>\n",
       "    </tr>\n",
       "    <tr>\n",
       "      <th>35</th>\n",
       "      <td>CWE Flag Count</td>\n",
       "      <td>NaN</td>\n",
       "    </tr>\n",
       "    <tr>\n",
       "      <th>36</th>\n",
       "      <td>ECE Flag Count</td>\n",
       "      <td>NaN</td>\n",
       "    </tr>\n",
       "    <tr>\n",
       "      <th>38</th>\n",
       "      <td>Fwd Bytes/Bulk Avg</td>\n",
       "      <td>NaN</td>\n",
       "    </tr>\n",
       "    <tr>\n",
       "      <th>39</th>\n",
       "      <td>Fwd Packet/Bulk Avg</td>\n",
       "      <td>NaN</td>\n",
       "    </tr>\n",
       "    <tr>\n",
       "      <th>40</th>\n",
       "      <td>Fwd Bulk Rate Avg</td>\n",
       "      <td>NaN</td>\n",
       "    </tr>\n",
       "    <tr>\n",
       "      <th>41</th>\n",
       "      <td>Bwd Bytes/Bulk Avg</td>\n",
       "      <td>NaN</td>\n",
       "    </tr>\n",
       "    <tr>\n",
       "      <th>42</th>\n",
       "      <td>Bwd Bulk Rate Avg</td>\n",
       "      <td>NaN</td>\n",
       "    </tr>\n",
       "    <tr>\n",
       "      <th>44</th>\n",
       "      <td>Subflow Bwd Packets</td>\n",
       "      <td>NaN</td>\n",
       "    </tr>\n",
       "    <tr>\n",
       "      <th>49</th>\n",
       "      <td>Active Mean</td>\n",
       "      <td>NaN</td>\n",
       "    </tr>\n",
       "    <tr>\n",
       "      <th>50</th>\n",
       "      <td>Active Std</td>\n",
       "      <td>NaN</td>\n",
       "    </tr>\n",
       "    <tr>\n",
       "      <th>51</th>\n",
       "      <td>Active Max</td>\n",
       "      <td>NaN</td>\n",
       "    </tr>\n",
       "    <tr>\n",
       "      <th>52</th>\n",
       "      <td>Active Min</td>\n",
       "      <td>NaN</td>\n",
       "    </tr>\n",
       "  </tbody>\n",
       "</table>\n",
       "</div>"
      ],
      "text/plain": [
       "                      Features         Score\n",
       "53                   Idle Mean  4.593947e+17\n",
       "3                Flow Duration  6.290415e+09\n",
       "18                 Fwd IAT Std  5.427132e+09\n",
       "16                Flow IAT Std  5.397861e+09\n",
       "15               Flow IAT Mean  2.767340e+09\n",
       "1                     Dst Port  8.535598e+08\n",
       "19                 Fwd IAT Min  7.074108e+08\n",
       "17                Flow IAT Min  3.154110e+08\n",
       "45          FWD Init Win Bytes  1.947240e+08\n",
       "0                     Src Port  4.210428e+07\n",
       "13                Flow Bytes/s  2.295858e+07\n",
       "54                    Idle Std  8.632010e+06\n",
       "46          Bwd Init Win Bytes  6.529863e+06\n",
       "29      Packet Length Variance  5.512396e+06\n",
       "14              Flow Packets/s  4.605229e+06\n",
       "6   Total Length of Fwd Packet  8.486464e+05\n",
       "7        Fwd Packet Length Max  7.378945e+05\n",
       "9       Fwd Packet Length Mean  3.422155e+05\n",
       "28          Packet Length Mean  3.081525e+05\n",
       "8        Fwd Packet Length Min  2.752866e+05\n",
       "27           Packet Length Min  2.752866e+05\n",
       "48            Fwd Seg Size Min  7.484156e+04\n",
       "10       Bwd Packet Length Max  4.421582e+04\n",
       "22                 Bwd IAT Min  3.983252e+04\n",
       "21                 Bwd IAT Max  3.983252e+04\n",
       "55                       Label  2.738584e+04\n",
       "47           Fwd Act Data Pkts  2.473861e+04\n",
       "33              PSH Flag Count  2.330229e+04\n",
       "12      Bwd Packet Length Mean  2.210791e+04\n",
       "2                     Protocol  1.872802e+04\n",
       "37               Down/Up Ratio  1.703485e+04\n",
       "5            Total Bwd packets  1.692885e+04\n",
       "43         Subflow Fwd Packets  1.066239e+04\n",
       "4             Total Fwd Packet  8.774102e+03\n",
       "30              FIN Flag Count  2.271838e+03\n",
       "11       Bwd Packet Length Min           NaN\n",
       "20                 Bwd IAT Std           NaN\n",
       "23               Fwd PSH Flags           NaN\n",
       "24               Bwd PSH Flags           NaN\n",
       "25               Fwd URG Flags           NaN\n",
       "26               Bwd URG Flags           NaN\n",
       "31              SYN Flag Count           NaN\n",
       "32              RST Flag Count           NaN\n",
       "34              URG Flag Count           NaN\n",
       "35              CWE Flag Count           NaN\n",
       "36              ECE Flag Count           NaN\n",
       "38          Fwd Bytes/Bulk Avg           NaN\n",
       "39         Fwd Packet/Bulk Avg           NaN\n",
       "40           Fwd Bulk Rate Avg           NaN\n",
       "41          Bwd Bytes/Bulk Avg           NaN\n",
       "42           Bwd Bulk Rate Avg           NaN\n",
       "44         Subflow Bwd Packets           NaN\n",
       "49                 Active Mean           NaN\n",
       "50                  Active Std           NaN\n",
       "51                  Active Max           NaN\n",
       "52                  Active Min           NaN"
      ]
     },
     "execution_count": 31,
     "metadata": {},
     "output_type": "execute_result"
    }
   ],
   "source": [
    "dfscores=pd.DataFrame(X_ordered_feat.scores_,columns=[\"Score\"])\n",
    "dfcolumns=pd.DataFrame(X_col_names)\n",
    "features_rank=pd.concat([dfcolumns,dfscores],axis=1)\n",
    "\n",
    "# Feature vs score i.e its effect on target variable\n",
    "features_rank.columns=['Features','Score']\n",
    "features_rank.sort_values(by=['Score'],ascending= False)"
   ]
  },
  {
   "cell_type": "markdown",
   "metadata": {
    "id": "WPKK3np4QAi1"
   },
   "source": [
    "# Feature importance"
   ]
  },
  {
   "cell_type": "code",
   "execution_count": 32,
   "metadata": {
    "id": "UcMPuKPsQAi2",
    "outputId": "5040ffb8-cc07-4540-e6b7-4abc2bb3dd58"
   },
   "outputs": [
    {
     "data": {
      "text/plain": [
       "ExtraTreesClassifier()"
      ]
     },
     "execution_count": 32,
     "metadata": {},
     "output_type": "execute_result"
    }
   ],
   "source": [
    "#Feature importance is an inbuilt class that comes with Tree Based Classifiers, \n",
    "#we will be using Extra Tree Classifier for extracting the top 10 features for the dataset.\n",
    "from sklearn.ensemble import ExtraTreesClassifier\n",
    "import matplotlib.pyplot as plt\n",
    "model = ExtraTreesClassifier()\n",
    "model.fit(X_sm,y_sm)"
   ]
  },
  {
   "cell_type": "code",
   "execution_count": 33,
   "metadata": {
    "id": "FW5I5EJFQAi3",
    "outputId": "a785d2b5-566f-4768-ddb2-a60dcca44e9e"
   },
   "outputs": [
    {
     "name": "stdout",
     "output_type": "stream",
     "text": [
      "[8.24612981e-02 9.23745942e-02 8.74492761e-03 3.19477320e-02\n",
      " 2.21693468e-02 1.87547512e-02 1.48094236e-02 1.76420645e-02\n",
      " 4.51372646e-03 9.76037401e-03 1.11797838e-03 0.00000000e+00\n",
      " 6.61136214e-04 2.11949725e-02 5.21446035e-02 3.40770317e-02\n",
      " 7.78971182e-03 3.40986288e-02 8.06916599e-03 3.07097132e-02\n",
      " 0.00000000e+00 1.08363004e-03 9.97541448e-04 0.00000000e+00\n",
      " 0.00000000e+00 0.00000000e+00 0.00000000e+00 3.65853150e-03\n",
      " 3.99530545e-03 1.47669190e-02 4.48044168e-02 0.00000000e+00\n",
      " 0.00000000e+00 3.14388749e-02 0.00000000e+00 0.00000000e+00\n",
      " 0.00000000e+00 2.24454291e-02 0.00000000e+00 0.00000000e+00\n",
      " 0.00000000e+00 0.00000000e+00 0.00000000e+00 2.88883610e-02\n",
      " 0.00000000e+00 6.12017351e-02 1.70519519e-02 3.05721988e-02\n",
      " 6.01755995e-02 0.00000000e+00 0.00000000e+00 0.00000000e+00\n",
      " 0.00000000e+00 4.55541526e-04 8.32273259e-05 1.85339556e-01]\n"
     ]
    }
   ],
   "source": [
    "print(model.feature_importances_) #use inbuilt class feature_importances of tree based classifiers"
   ]
  },
  {
   "cell_type": "code",
   "execution_count": 34,
   "metadata": {
    "id": "E59ADm3bQAi4",
    "outputId": "f09ae742-94a4-42d5-986c-19c80096b56b"
   },
   "outputs": [
    {
     "data": {
      "image/png": "[encoded data removed]",
      "text/plain": [
       "<Figure size 432x288 with 1 Axes>"
      ]
     },
     "metadata": {
      "needs_background": "light"
     },
     "output_type": "display_data"
    }
   ],
   "source": [
    "#plot graph of feature importances for better visualization\n",
    "feat_importances = pd.Series(model.feature_importances_, index= X_col_names)\n",
    "feat_importances.nlargest(20).plot(kind='barh')\n",
    "plt.show()"
   ]
  },
  {
   "cell_type": "code",
   "execution_count": 35,
   "metadata": {
    "id": "Kk59K8WDQAi6"
   },
   "outputs": [],
   "source": [
    "# from the available top 20 features , most useful features are considered and were used for extermely important for model building \n",
    "\n",
    "feats=['Label' ,'Dst Port','Fwd Seg Size Min','Src Port','FWD Init Win Bytes','Total Fwd Packet','Bwd Init Win Bytes','Flow Duration', 'Flow IAT Mean','Total Bwd packets',\n",
    "'FIN Flag Count','Flow Bytes/s','Packet Length Mean','Total Length of Fwd Packet','Fwd Packet Length Mean','Down/Up Ratio','Fwd IAT Std','Packet Length Variance']\n"
   ]
  },
  {
   "cell_type": "markdown",
   "metadata": {
    "id": "2Ded20o2TNSZ"
   },
   "source": [
    "# PCA"
   ]
  },
  {
   "cell_type": "code",
   "execution_count": 36,
   "metadata": {
    "id": "6Fn3-RPLQAi7"
   },
   "outputs": [],
   "source": [
    "\n",
    "from sklearn.preprocessing import StandardScaler\n",
    "from sklearn.decomposition import PCA"
   ]
  },
  {
   "cell_type": "code",
   "execution_count": 37,
   "metadata": {},
   "outputs": [
    {
     "data": {
      "text/plain": [
       "(9014, 56)"
      ]
     },
     "execution_count": 37,
     "metadata": {},
     "output_type": "execute_result"
    }
   ],
   "source": [
    "scaler = StandardScaler()\n",
    "scaler.fit(X)\n",
    "scaled_data = scaler.transform(X)\n",
    "scaled_data.shape"
   ]
  },
  {
   "cell_type": "code",
   "execution_count": 38,
   "metadata": {
    "id": "jEXC5ws4Tgnx"
   },
   "outputs": [
    {
     "name": "stdout",
     "output_type": "stream",
     "text": [
      "(9014, 5)\n",
      "[0.2426285  0.17561709 0.12905648 0.09232772 0.06891875]\n"
     ]
    }
   ],
   "source": [
    "pca = PCA(n_components=5)\n",
    "\n",
    "x_train_data_transformed = pca.fit_transform(scaled_data)\n",
    "\n",
    "print(x_train_data_transformed.shape)\n",
    "\n",
    "data_transformed = pd.DataFrame(x_train_data_transformed, columns = ['PCA1', 'PCA2','PCA3', 'PCA4','PCA5'])\n",
    "data_concat = pd.concat([df_new, data_transformed], axis = 1)\n",
    "\n",
    "\n",
    "#explained_variane\n",
    "print(pca.explained_variance_ratio_)"
   ]
  },
  {
   "cell_type": "code",
   "execution_count": 39,
   "metadata": {},
   "outputs": [
    {
     "data": {
      "text/plain": [
       "array([[-9.49632558e-02, -5.21816581e-02,  2.88836369e-01,\n",
       "         2.86217500e-02,  2.09108751e-03, -1.05250459e-02,\n",
       "         3.35340959e-01,  3.34711813e-01,  3.08349027e-01,\n",
       "         3.31102598e-01,  3.31057351e-02,  6.63418318e-27,\n",
       "         3.31057351e-02,  2.69441960e-01, -3.66355154e-03,\n",
       "         3.22079749e-02,  1.96996854e-02,  2.74894467e-02,\n",
       "         2.10944814e-02,  3.05983286e-02,  0.00000000e+00,\n",
       "         1.07825365e-02,  1.07825365e-02,  0.00000000e+00,\n",
       "         0.00000000e+00,  0.00000000e+00,  0.00000000e+00,\n",
       "         3.08349027e-01,  3.29136010e-01,  1.99861618e-01,\n",
       "        -8.87451706e-02,  0.00000000e+00,  0.00000000e+00,\n",
       "         1.41667102e-01,  0.00000000e+00,  0.00000000e+00,\n",
       "         0.00000000e+00, -1.30008605e-02,  0.00000000e+00,\n",
       "         0.00000000e+00,  0.00000000e+00,  0.00000000e+00,\n",
       "         0.00000000e+00,  1.57003847e-02,  0.00000000e+00,\n",
       "         8.02242670e-02, -4.16805613e-03,  3.06118367e-01,\n",
       "        -1.25493108e-01,  0.00000000e+00,  0.00000000e+00,\n",
       "         0.00000000e+00,  0.00000000e+00,  7.84537006e-02,\n",
       "         1.83513967e-02,  4.45900589e-02],\n",
       "       [-1.01709531e-02, -1.67060927e-01, -1.09830888e-02,\n",
       "        -1.78509107e-01, -2.92371524e-01,  3.65264824e-01,\n",
       "        -8.20936755e-03,  5.18232786e-03, -1.69090069e-02,\n",
       "        -8.27568852e-03,  1.16457722e-01, -1.90359962e-26,\n",
       "         1.16457722e-01,  6.13032371e-02,  7.81372649e-02,\n",
       "        -1.75468265e-01, -1.77153868e-01,  2.15700199e-02,\n",
       "        -1.75813113e-01, -2.75338452e-02,  0.00000000e+00,\n",
       "         6.94350264e-02,  6.94350264e-02,  0.00000000e+00,\n",
       "         0.00000000e+00,  0.00000000e+00,  0.00000000e+00,\n",
       "        -1.69090069e-02, -2.51114121e-03,  6.77567530e-02,\n",
       "        -1.01578369e-01,  0.00000000e+00,  0.00000000e+00,\n",
       "         7.84942779e-02,  0.00000000e+00,  0.00000000e+00,\n",
       "         0.00000000e+00,  3.67158324e-01,  0.00000000e+00,\n",
       "         0.00000000e+00,  0.00000000e+00,  0.00000000e+00,\n",
       "         0.00000000e+00, -3.58566357e-01,  0.00000000e+00,\n",
       "         6.61208585e-02,  2.80474192e-01,  1.55158741e-02,\n",
       "         3.10960453e-01,  0.00000000e+00,  0.00000000e+00,\n",
       "         0.00000000e+00,  0.00000000e+00, -3.15172103e-02,\n",
       "         4.32616530e-04,  3.37653264e-01],\n",
       "       [ 9.22433567e-03, -8.85845014e-02, -5.66350419e-02,\n",
       "         3.67160982e-01,  1.85806794e-01,  1.56833799e-01,\n",
       "        -5.34019633e-03,  5.45677558e-03, -4.61980326e-02,\n",
       "        -2.65183879e-02,  1.01479056e-01, -9.12552843e-25,\n",
       "         1.01479056e-01,  2.52687875e-02, -6.81780157e-02,\n",
       "         3.05925245e-01,  3.99348557e-01, -2.24798376e-01,\n",
       "         4.00083914e-01, -2.39580940e-01,  0.00000000e+00,\n",
       "         6.11751480e-02,  6.11751480e-02,  0.00000000e+00,\n",
       "         0.00000000e+00,  0.00000000e+00,  0.00000000e+00,\n",
       "        -4.61980326e-02, -2.51557524e-02,  1.01683638e-01,\n",
       "         2.97526944e-01,  0.00000000e+00,  0.00000000e+00,\n",
       "         1.14229697e-01,  0.00000000e+00,  0.00000000e+00,\n",
       "         0.00000000e+00,  1.47046758e-01,  0.00000000e+00,\n",
       "         0.00000000e+00,  0.00000000e+00,  0.00000000e+00,\n",
       "         0.00000000e+00, -1.45957012e-01,  0.00000000e+00,\n",
       "         5.02269914e-02,  1.38607827e-01,  2.99169560e-02,\n",
       "         1.26665574e-01,  0.00000000e+00,  0.00000000e+00,\n",
       "         0.00000000e+00,  0.00000000e+00,  1.60654444e-01,\n",
       "         2.70955977e-02,  1.21560768e-01],\n",
       "       [-4.32632068e-02,  7.46666910e-02, -1.67389434e-01,\n",
       "        -1.28532232e-01,  1.26968256e-01, -1.09005915e-01,\n",
       "        -8.02308232e-02,  6.04449816e-03, -1.76338564e-01,\n",
       "        -1.05951125e-01,  3.08969910e-01, -5.92152267e-24,\n",
       "         3.08969910e-01,  2.23934403e-01,  7.50802463e-02,\n",
       "        -1.54081159e-01, -1.00515106e-01, -1.03093633e-01,\n",
       "        -1.02160862e-01, -7.12561012e-02,  0.00000000e+00,\n",
       "         1.85471556e-01,  1.85471556e-01,  0.00000000e+00,\n",
       "         0.00000000e+00,  0.00000000e+00,  0.00000000e+00,\n",
       "        -1.76338564e-01, -1.01576539e-01,  3.26066314e-01,\n",
       "         3.70862601e-02,  0.00000000e+00,  0.00000000e+00,\n",
       "         3.89987867e-01,  0.00000000e+00,  0.00000000e+00,\n",
       "         0.00000000e+00, -1.07762460e-01,  0.00000000e+00,\n",
       "         0.00000000e+00,  0.00000000e+00,  0.00000000e+00,\n",
       "         0.00000000e+00,  1.60640908e-01,  0.00000000e+00,\n",
       "         3.30674731e-01, -1.07304617e-01,  8.38604865e-02,\n",
       "        -1.30025672e-01,  0.00000000e+00,  0.00000000e+00,\n",
       "         0.00000000e+00,  0.00000000e+00, -5.83264983e-02,\n",
       "         3.40393176e-02, -8.80031025e-02],\n",
       "       [ 3.85904886e-02, -6.63717495e-03, -1.56320234e-02,\n",
       "         1.97411728e-01, -1.96184867e-01,  2.01795536e-02,\n",
       "        -3.12853775e-02, -5.59681815e-02, -1.61884152e-02,\n",
       "        -3.34658832e-02,  2.21767464e-01,  2.96094966e-23,\n",
       "         2.21767464e-01, -5.36850728e-02, -1.99512322e-01,\n",
       "         3.08737180e-01,  7.68913405e-02,  4.85812072e-01,\n",
       "         7.89800491e-02,  4.86461303e-01, -0.00000000e+00,\n",
       "         2.48612576e-01,  2.48612576e-01, -0.00000000e+00,\n",
       "        -0.00000000e+00, -0.00000000e+00, -0.00000000e+00,\n",
       "        -1.61884152e-02, -1.58805668e-02,  7.23784371e-03,\n",
       "        -2.20593567e-01, -0.00000000e+00, -0.00000000e+00,\n",
       "        -1.61472769e-03, -0.00000000e+00, -0.00000000e+00,\n",
       "        -0.00000000e+00,  1.36111128e-02, -0.00000000e+00,\n",
       "        -0.00000000e+00, -0.00000000e+00, -0.00000000e+00,\n",
       "        -0.00000000e+00,  1.80781372e-02, -0.00000000e+00,\n",
       "        -2.48637965e-02, -7.07343960e-03, -6.36264698e-02,\n",
       "        -3.62597273e-02, -0.00000000e+00, -0.00000000e+00,\n",
       "        -0.00000000e+00, -0.00000000e+00,  1.09779891e-01,\n",
       "         6.39274850e-03, -4.69392449e-02]])"
      ]
     },
     "execution_count": 39,
     "metadata": {},
     "output_type": "execute_result"
    }
   ],
   "source": [
    "\n",
    "pca.components_"
   ]
  },
  {
   "cell_type": "code",
   "execution_count": 40,
   "metadata": {},
   "outputs": [
    {
     "data": {
      "text/plain": [
       "<matplotlib.axes._subplots.AxesSubplot at 0x1f840c09c88>"
      ]
     },
     "execution_count": 40,
     "metadata": {},
     "output_type": "execute_result"
    },
    {
     "data": {
      "image/png": "[encoded data removed]",
      "text/plain": [
       "<Figure size 864x432 with 2 Axes>"
      ]
     },
     "metadata": {
      "needs_background": "light"
     },
     "output_type": "display_data"
    }
   ],
   "source": [
    "df_comp = pd.DataFrame(pca.components_,columns= X_col_names)\n",
    "plt.figure(figsize=(12,6))\n",
    "sns.heatmap(df_comp,cmap='plasma',)"
   ]
  },
  {
   "cell_type": "markdown",
   "metadata": {},
   "source": [
    "# Clustering "
   ]
  },
  {
   "cell_type": "code",
   "execution_count": 41,
   "metadata": {},
   "outputs": [
    {
     "data": {
      "text/html": [
       "<div>\n",
       "<style scoped>\n",
       "    .dataframe tbody tr th:only-of-type {\n",
       "        vertical-align: middle;\n",
       "    }\n",
       "\n",
       "    .dataframe tbody tr th {\n",
       "        vertical-align: top;\n",
       "    }\n",
       "\n",
       "    .dataframe thead th {\n",
       "        text-align: right;\n",
       "    }\n",
       "</style>\n",
       "<table border=\"1\" class=\"dataframe\">\n",
       "  <thead>\n",
       "    <tr style=\"text-align: right;\">\n",
       "      <th></th>\n",
       "      <th>Src Port</th>\n",
       "      <th>Dst Port</th>\n",
       "      <th>FWD Init Win Bytes</th>\n",
       "      <th>Flow Packets/s</th>\n",
       "      <th>Flow Duration</th>\n",
       "      <th>Fwd Seg Size Min</th>\n",
       "      <th>Bwd Init Win Bytes</th>\n",
       "      <th>FIN Flag Count</th>\n",
       "    </tr>\n",
       "  </thead>\n",
       "  <tbody>\n",
       "    <tr>\n",
       "      <th>1087</th>\n",
       "      <td>47033</td>\n",
       "      <td>443</td>\n",
       "      <td>1773</td>\n",
       "      <td>1.257596</td>\n",
       "      <td>2385503</td>\n",
       "      <td>20</td>\n",
       "      <td>0</td>\n",
       "      <td>1</td>\n",
       "    </tr>\n",
       "    <tr>\n",
       "      <th>1130</th>\n",
       "      <td>41698</td>\n",
       "      <td>80</td>\n",
       "      <td>1047</td>\n",
       "      <td>788.954635</td>\n",
       "      <td>2535</td>\n",
       "      <td>20</td>\n",
       "      <td>1161</td>\n",
       "      <td>2</td>\n",
       "    </tr>\n",
       "    <tr>\n",
       "      <th>3627</th>\n",
       "      <td>37790</td>\n",
       "      <td>80</td>\n",
       "      <td>980</td>\n",
       "      <td>463.392030</td>\n",
       "      <td>4316</td>\n",
       "      <td>20</td>\n",
       "      <td>980</td>\n",
       "      <td>1</td>\n",
       "    </tr>\n",
       "    <tr>\n",
       "      <th>4241</th>\n",
       "      <td>58871</td>\n",
       "      <td>80</td>\n",
       "      <td>980</td>\n",
       "      <td>154.428229</td>\n",
       "      <td>12951</td>\n",
       "      <td>20</td>\n",
       "      <td>0</td>\n",
       "      <td>1</td>\n",
       "    </tr>\n",
       "    <tr>\n",
       "      <th>4242</th>\n",
       "      <td>45179</td>\n",
       "      <td>80</td>\n",
       "      <td>980</td>\n",
       "      <td>112.726863</td>\n",
       "      <td>17742</td>\n",
       "      <td>20</td>\n",
       "      <td>0</td>\n",
       "      <td>1</td>\n",
       "    </tr>\n",
       "  </tbody>\n",
       "</table>\n",
       "</div>"
      ],
      "text/plain": [
       "      Src Port  Dst Port  FWD Init Win Bytes  Flow Packets/s  Flow Duration  \\\n",
       "1087     47033       443                1773        1.257596        2385503   \n",
       "1130     41698        80                1047      788.954635           2535   \n",
       "3627     37790        80                 980      463.392030           4316   \n",
       "4241     58871        80                 980      154.428229          12951   \n",
       "4242     45179        80                 980      112.726863          17742   \n",
       "\n",
       "      Fwd Seg Size Min  Bwd Init Win Bytes  FIN Flag Count  \n",
       "1087                20                   0               1  \n",
       "1130                20                1161               2  \n",
       "3627                20                 980               1  \n",
       "4241                20                   0               1  \n",
       "4242                20                   0               1  "
      ]
     },
     "execution_count": 41,
     "metadata": {},
     "output_type": "execute_result"
    }
   ],
   "source": [
    "\n",
    "X = df_new[df_new.columns[:]]\n",
    "X=X.drop(['Flow ID','Src IP','Dst IP','Timestamp'],axis=1)\n",
    "#X_new=X\n",
    "X_new=X[['Src Port','Dst Port','FWD Init Win Bytes','Flow Packets/s','Flow Duration' ,'Fwd Seg Size Min','Bwd Init Win Bytes','FIN Flag Count']]\n",
    "X_col_names=X.columns\n",
    "X_new.head()"
   ]
  },
  {
   "cell_type": "code",
   "execution_count": 42,
   "metadata": {},
   "outputs": [
    {
     "data": {
      "image/png": "[encoded data removed]",
      "text/plain": [
       "<Figure size 864x432 with 1 Axes>"
      ]
     },
     "metadata": {
      "needs_background": "light"
     },
     "output_type": "display_data"
    }
   ],
   "source": [
    "from sklearn.cluster import KMeans\n",
    "\n",
    "X = data_transformed\n",
    "\n",
    "wcss=[]\n",
    "X.head()\n",
    "for i in range(1,11):\n",
    "    kmeans=KMeans(n_clusters=i, init='k-means++',random_state=0)\n",
    "    kmeans.fit(X_new)\n",
    "    wcss.append(kmeans.inertia_)\n",
    "plt.figure(figsize=(12,6))   \n",
    "plt.plot(range(1,11),wcss, linewidth=2, color=\"red\", marker =\"8\")\n",
    "plt.title('The Elbow Method')\n",
    "plt.xticks(np.arange(1,11,1))\n",
    "plt.xlabel('Number of Clusters')\n",
    "plt.ylabel('WCSS')\n",
    "plt.show()\n",
    "\n"
   ]
  },
  {
   "cell_type": "code",
   "execution_count": 43,
   "metadata": {},
   "outputs": [],
   "source": [
    "#Fitting K-MEans to the dataset\n",
    "kmeans=KMeans(n_clusters=4,init='k-means++',random_state=0)\n",
    "y_kmeans=kmeans.fit_predict(data_transformed)\n",
    "\n"
   ]
  },
  {
   "cell_type": "code",
   "execution_count": 44,
   "metadata": {},
   "outputs": [
    {
     "data": {
      "image/png": "[encoded data removed]",
      "text/plain": [
       "<Figure size 432x288 with 1 Axes>"
      ]
     },
     "metadata": {
      "needs_background": "light"
     },
     "output_type": "display_data"
    }
   ],
   "source": [
    "#Visualize the clusters\n",
    "X = np.array(data_transformed )  #that all\n",
    "plt.scatter(X[y_kmeans== 0,0],X[y_kmeans==0,1],s=100,c='red',label='Cluster1')\n",
    "plt.scatter(X[y_kmeans== 1,0],X[y_kmeans==1,1],s=100,c='blue',label='Cluster2')\n",
    "plt.scatter(X[y_kmeans== 2,0],X[y_kmeans==2,1],s=100,c='green',label='Cluster3')\n",
    "plt.scatter(X[y_kmeans== 3,0],X[y_kmeans==3,1],s=100,c='cyan',label='Cluster4')\n",
    "#plt.scatter(X[y_kmeans== 4,0],X[y_kmeans==4,1],s=100,c='magenta',label='Cluster5')\n",
    "\n",
    "plt.scatter(kmeans.cluster_centers_[:,0],kmeans.cluster_centers_[:,1],s=300,c='yellow',label='Centroids')\n",
    "\n",
    "plt.title('Clusters of Traffic')\n",
    "plt.xlabel('')\n",
    "plt.ylabel('')\n",
    "plt.legend()\n",
    "plt.show()"
   ]
  },
  {
   "cell_type": "code",
   "execution_count": 45,
   "metadata": {},
   "outputs": [],
   "source": [
    "range_n_clusters = [2,3,4,5,6]"
   ]
  },
  {
   "cell_type": "code",
   "execution_count": 46,
   "metadata": {},
   "outputs": [
    {
     "name": "stdout",
     "output_type": "stream",
     "text": [
      "For n_clusters = 2 The average silhouette_score is : 0.8449494858285832\n",
      "For n_clusters = 3 The average silhouette_score is : 0.7281725374123013\n",
      "For n_clusters = 4 The average silhouette_score is : 0.7331210507847727\n",
      "For n_clusters = 5 The average silhouette_score is : 0.587725129392493\n",
      "For n_clusters = 6 The average silhouette_score is : 0.5941888096368106\n"
     ]
    },
    {
     "data": {
      "image/png": "[encoded data removed]",
      "text/plain": [
       "<Figure size 1296x504 with 2 Axes>"
      ]
     },
     "metadata": {
      "needs_background": "light"
     },
     "output_type": "display_data"
    },
    {
     "data": {
      "image/png": "[encoded data removed]",
      "text/plain": [
       "<Figure size 1296x504 with 2 Axes>"
      ]
     },
     "metadata": {
      "needs_background": "light"
     },
     "output_type": "display_data"
    },
    {
     "data": {
      "image/png": "[encoded data removed]",
      "text/plain": [
       "<Figure size 1296x504 with 2 Axes>"
      ]
     },
     "metadata": {
      "needs_background": "light"
     },
     "output_type": "display_data"
    },
    {
     "data": {
      "image/png": "[encoded data removed]",
      "text/plain": [
       "<Figure size 1296x504 with 2 Axes>"
      ]
     },
     "metadata": {
      "needs_background": "light"
     },
     "output_type": "display_data"
    },
    {
     "data": {
      "image/png": "[encoded data removed]",
      "text/plain": [
       "<Figure size 1296x504 with 2 Axes>"
      ]
     },
     "metadata": {
      "needs_background": "light"
     },
     "output_type": "display_data"
    }
   ],
   "source": [
    "from sklearn.metrics import silhouette_samples, silhouette_score\n",
    "import matplotlib.cm as cm\n",
    "\n",
    "for n_clusters in range_n_clusters:\n",
    "    # Create a subplot with 1 row and 2 columns\n",
    "    fig, (ax1, ax2) = plt.subplots(1, 2)\n",
    "    fig.set_size_inches(18, 7)\n",
    "\n",
    "    # The 1st subplot is the silhouette plot\n",
    "    # The silhouette coefficient can range from -1, 1 but in this example all\n",
    "    # lie within [-0.1, 1]\n",
    "    ax1.set_xlim([-0.1, 1])\n",
    "    # The (n_clusters+1)*10 is for inserting blank space between silhouette\n",
    "    # plots of individual clusters, to demarcate them clearly.\n",
    "    ax1.set_ylim([0, len(X) + (n_clusters + 1) * 10])\n",
    "\n",
    "    # Initialize the clusterer with n_clusters value and a random generator\n",
    "    # seed of 10 for reproducibility.\n",
    "    clusterer = KMeans(n_clusters=n_clusters, random_state=10)\n",
    "    cluster_labels = clusterer.fit_predict(X)\n",
    "\n",
    "    # The silhouette_score gives the average value for all the samples.\n",
    "    # This gives a perspective into the density and separation of the formed\n",
    "    # clusters\n",
    "    silhouette_avg = silhouette_score(X, cluster_labels)\n",
    "    print(\"For n_clusters =\", n_clusters,\n",
    "          \"The average silhouette_score is :\", silhouette_avg)\n",
    "\n",
    "    # Compute the silhouette scores for each sample\n",
    "    sample_silhouette_values = silhouette_samples(X, cluster_labels)\n",
    "\n",
    "    y_lower = 10\n",
    "    for i in range(n_clusters):\n",
    "        # Aggregate the silhouette scores for samples belonging to\n",
    "        # cluster i, and sort them\n",
    "        ith_cluster_silhouette_values = \\\n",
    "            sample_silhouette_values[cluster_labels == i]\n",
    "\n",
    "        ith_cluster_silhouette_values.sort()\n",
    "\n",
    "        size_cluster_i = ith_cluster_silhouette_values.shape[0]\n",
    "        y_upper = y_lower + size_cluster_i\n",
    "\n",
    "        color = cm.nipy_spectral(float(i) / n_clusters)\n",
    "        ax1.fill_betweenx(np.arange(y_lower, y_upper),\n",
    "                          0, ith_cluster_silhouette_values,\n",
    "                          facecolor=color, edgecolor=color, alpha=0.7)\n",
    "\n",
    "        # Label the silhouette plots with their cluster numbers at the middle\n",
    "        ax1.text(-0.05, y_lower + 0.5 * size_cluster_i, str(i))\n",
    "\n",
    "        # Compute the new y_lower for next plot\n",
    "        y_lower = y_upper + 10  # 10 for the 0 samples\n",
    "\n",
    "    ax1.set_title(\"The silhouette plot for the various clusters.\")\n",
    "    ax1.set_xlabel(\"The silhouette coefficient values\")\n",
    "    ax1.set_ylabel(\"Cluster label\")\n",
    "\n",
    "    # The vertical line for average silhouette score of all the values\n",
    "    ax1.axvline(x=silhouette_avg, color=\"red\", linestyle=\"--\")\n",
    "\n",
    "    ax1.set_yticks([])  # Clear the yaxis labels / ticks\n",
    "    ax1.set_xticks([-0.1, 0, 0.2, 0.4, 0.6, 0.8, 1])\n",
    "\n",
    "    # 2nd Plot showing the actual clusters formed\n",
    "    colors = cm.nipy_spectral(cluster_labels.astype(float) / n_clusters)\n",
    "    ax2.scatter(X[:, 0], X[:, 1], marker='.', s=30, lw=0, alpha=0.7,\n",
    "                c=colors, edgecolor='k')\n",
    "\n",
    "    # Labeling the clusters\n",
    "    centers = clusterer.cluster_centers_\n",
    "    # Draw white circles at cluster centers\n",
    "    ax2.scatter(centers[:, 0], centers[:, 1], marker='o',\n",
    "                c=\"white\", alpha=1, s=200, edgecolor='k')\n",
    "\n",
    "    for i, c in enumerate(centers):\n",
    "        ax2.scatter(c[0], c[1], marker='$%d$' % i, alpha=1,\n",
    "                    s=50, edgecolor='k')\n",
    "\n",
    "    ax2.set_title(\"The visualization of the clustered data.\")\n",
    "    ax2.set_xlabel(\"Feature space for the 1st feature\")\n",
    "    ax2.set_ylabel(\"Feature space for the 2nd feature\")\n",
    "\n",
    "    plt.suptitle((\"Silhouette analysis for KMeans clustering on sample data \"\n",
    "                  \"with n_clusters = %d\" % n_clusters),\n",
    "                 fontsize=14, fontweight='bold')\n",
    "\n",
    "plt.show()"
   ]
  },
  {
   "cell_type": "markdown",
   "metadata": {},
   "source": [
    "# 2. Clasification Model Building "
   ]
  },
  {
   "cell_type": "code",
   "execution_count": 47,
   "metadata": {},
   "outputs": [
    {
     "name": "stderr",
     "output_type": "stream",
     "text": [
      "Using TensorFlow backend.\n"
     ]
    }
   ],
   "source": [
    "from sklearn.model_selection import train_test_split\n",
    "from sklearn.metrics import accuracy_score, precision_score, recall_score, f1_score\n",
    "from sklearn.neighbors import KNeighborsClassifier\n",
    "from sklearn.metrics import confusion_matrix\n",
    "from sklearn.model_selection import GridSearchCV\n",
    "from sklearn.metrics import classification_report\n",
    "from sklearn.preprocessing import StandardScaler\n",
    "from sklearn.model_selection import train_test_split\n",
    "from sklearn.preprocessing import LabelEncoder\n",
    "\n",
    "from sklearn.tree import DecisionTreeClassifier\n",
    "from sklearn.ensemble import RandomForestClassifier\n",
    "from sklearn.metrics import accuracy_score, precision_score, recall_score, f1_score\n",
    "\n",
    "from sklearn.metrics import confusion_matrix\n",
    "from sklearn.model_selection import GridSearchCV\n",
    "from sklearn.metrics import classification_report\n",
    "\n",
    "from sklearn.preprocessing import MinMaxScaler\n",
    "\n",
    "import keras\n",
    "from keras.models import Sequential\n",
    "from keras.layers import Dense\n",
    "\n",
    "\n",
    "from sklearn.metrics import confusion_matrix\n",
    "import seaborn as sns\n",
    "import matplotlib.pyplot as plt"
   ]
  },
  {
   "cell_type": "code",
   "execution_count": 48,
   "metadata": {},
   "outputs": [],
   "source": [
    "\n",
    "df_X_train = pd.DataFrame(X_sm,columns=X_col_names[:-1])\n",
    "\n",
    "feats=['Label' ,'Dst Port','Fwd Seg Size Min','Src Port','FWD Init Win Bytes','Total Fwd Packet','Bwd Init Win Bytes','Flow Duration', 'Flow IAT Mean','Total Bwd packets',\n",
    "'FIN Flag Count','Flow Bytes/s','Packet Length Mean','Total Length of Fwd Packet','Fwd Packet Length Mean','Down/Up Ratio','Fwd IAT Std','Packet Length Variance']\n",
    "\n",
    "X_train_filtered=df_X_train[feats]\n",
    "#X_train_filtered=df_X_train\n",
    "X_train = np.array(X_train_filtered)\n",
    "\n",
    "\n",
    "df_X_test = pd.DataFrame(X_test,columns=X_col_names[:-1])\n",
    "X_test_filtered=df_X_test[feats]\n",
    "#X_test_filtered=df_X_test\n",
    "X_test = np.array(X_test_filtered)\n",
    "y_train=y_sm\n"
   ]
  },
  {
   "cell_type": "markdown",
   "metadata": {},
   "source": [
    "# Decision Tree"
   ]
  },
  {
   "cell_type": "code",
   "execution_count": 49,
   "metadata": {},
   "outputs": [
    {
     "name": "stdout",
     "output_type": "stream",
     "text": [
      "Starting to train\n"
     ]
    },
    {
     "data": {
      "text/plain": [
       "DecisionTreeClassifier()"
      ]
     },
     "execution_count": 49,
     "metadata": {},
     "output_type": "execute_result"
    }
   ],
   "source": [
    "print(\"Starting to train\")\n",
    "dt = DecisionTreeClassifier()\n",
    "dt.fit(X_train , y_train)"
   ]
  },
  {
   "cell_type": "code",
   "execution_count": 50,
   "metadata": {},
   "outputs": [
    {
     "data": {
      "text/plain": [
       "(853, 23)"
      ]
     },
     "execution_count": 50,
     "metadata": {},
     "output_type": "execute_result"
    }
   ],
   "source": [
    "dt.tree_.node_count, dt.tree_.max_depth"
   ]
  },
  {
   "cell_type": "code",
   "execution_count": 51,
   "metadata": {},
   "outputs": [
    {
     "data": {
      "text/plain": [
       "0.9822518025513034"
      ]
     },
     "execution_count": 51,
     "metadata": {},
     "output_type": "execute_result"
    }
   ],
   "source": [
    "dt.score(X_test, y_test)"
   ]
  },
  {
   "cell_type": "code",
   "execution_count": 52,
   "metadata": {},
   "outputs": [
    {
     "name": "stdout",
     "output_type": "stream",
     "text": [
      "accuracy 0.9822518025513034\n",
      "Classes:  ['AUDIO-VIDEO-STREAMING' 'BROWSING' 'CHAT' 'EMAIL' 'FILE-TRANSFER' 'P2P'\n",
      " 'VOIP']\n",
      "                       precision    recall  f1-score   support\n",
      "\n",
      "AUDIO-VIDEO-STREAMING       0.97      0.92      0.94        97\n",
      "             BROWSING       0.60      0.50      0.55        12\n",
      "                 CHAT       0.71      0.91      0.80        11\n",
      "                EMAIL       0.85      0.92      0.88        12\n",
      "        FILE-TRANSFER       0.48      0.70      0.57        23\n",
      "                  P2P       1.00      1.00      1.00      1645\n",
      "                 VOIP       0.50      0.67      0.57         3\n",
      "\n",
      "            micro avg       0.98      0.98      0.98      1803\n",
      "            macro avg       0.64      0.70      0.66      1803\n",
      "         weighted avg       0.99      0.98      0.98      1803\n",
      "\n"
     ]
    }
   ],
   "source": [
    "y_pred = dt.predict(X_test)\n",
    "print('accuracy %s' % accuracy_score(y_test, y_pred))\n",
    "print(\"Classes: \", le.inverse_transform([0,1,2,3,4,5,6]))\n",
    "print(classification_report(y_test, y_pred, target_names= le.inverse_transform([0,1,2,3,4,5,6]), labels=range(8)))"
   ]
  },
  {
   "cell_type": "code",
   "execution_count": 53,
   "metadata": {},
   "outputs": [],
   "source": [
    "#confusion matrix graph\n",
    "#utility function taken from online reference\n",
    "def plot_confusion_matrix(cm, classes,\n",
    "                          normalize=False,\n",
    "                          title='Confusion matrix',\n",
    "                          cmap=plt.cm.Blues):\n",
    "    \"\"\"\n",
    "    This function prints and plots the confusion matrix.\n",
    "    Normalization can be applied by setting `normalize=True`.\n",
    "    \"\"\"\n",
    "    if normalize:\n",
    "        cm = cm.astype('float') / cm.sum(axis=1)[:, np.newaxis]\n",
    "        print(\"Normalized confusion matrix\")\n",
    "    else:\n",
    "        print('Confusion matrix, without normalization')\n",
    "\n",
    "    # print(cm)\n",
    "\n",
    "    plt.imshow(cm, interpolation='nearest', cmap=cmap)\n",
    "    plt.title(title)\n",
    "    #plt.colorbar()\n",
    "    tick_marks = np.arange(len(classes))\n",
    "    plt.xticks(tick_marks, classes, rotation=90)\n",
    "    plt.yticks(tick_marks, classes)\n",
    "\n",
    "    fmt = '.2f' if normalize else 'd'\n",
    "    thresh = cm.max() / 2.\n",
    "    for i, j in itertools.product(range(cm.shape[0]), range(cm.shape[1])):\n",
    "        plt.text(j, i, format(cm[i, j], fmt),\n",
    "                 horizontalalignment=\"center\",\n",
    "                 color=\"white\" if cm[i, j] > thresh else \"black\")\n",
    "\n",
    "    #plt.tight_layout()\n",
    "    plt.ylabel('True label')\n",
    "    plt.xlabel('Predicted label')"
   ]
  },
  {
   "cell_type": "code",
   "execution_count": 54,
   "metadata": {},
   "outputs": [
    {
     "name": "stdout",
     "output_type": "stream",
     "text": [
      "Normalized confusion matrix\n"
     ]
    },
    {
     "data": {
      "image/png": "[encoded data removed]",
      "text/plain": [
       "<Figure size 432x432 with 1 Axes>"
      ]
     },
     "metadata": {
      "needs_background": "light"
     },
     "output_type": "display_data"
    }
   ],
   "source": [
    "import itertools\n",
    "fig = plt.figure()\n",
    "fig.set_size_inches(6, 6, forward=True)\n",
    "fig.align_labels()\n",
    "\n",
    "plot_confusion_matrix(confusion_matrix(y_test, y_pred), normalize=True,\n",
    "                      title='Confusion matrix', classes= le.inverse_transform([0,1,2,3,4,5,6]))\n",
    "fig.show()"
   ]
  },
  {
   "cell_type": "code",
   "execution_count": 55,
   "metadata": {
    "scrolled": true
   },
   "outputs": [
    {
     "data": {
      "image/png": "[encoded data removed]",
      "text/plain": [
       "<Figure size 1728x864 with 1 Axes>"
      ]
     },
     "metadata": {
      "needs_background": "light"
     },
     "output_type": "display_data"
    }
   ],
   "source": [
    "importances = dt.feature_importances_\n",
    "indices = np.argsort(importances)[::-1]\n",
    "names = [X_col_names[i] for i in indices]\n",
    "plt.figure(figsize=(24,12))\n",
    "plt.title(\"Importances\")\n",
    "plt.bar(range(X_train.shape[1]), importances[indices])\n",
    "plt.xticks(range(X_train.shape[1]), names, rotation=90)\n",
    "plt.savefig(\"DT_features.png\")"
   ]
  },
  {
   "cell_type": "markdown",
   "metadata": {},
   "source": [
    "# KNN Model"
   ]
  },
  {
   "cell_type": "code",
   "execution_count": 56,
   "metadata": {},
   "outputs": [
    {
     "name": "stdout",
     "output_type": "stream",
     "text": [
      "K=2 accuracy 0.949528563505269\n",
      "K=3 accuracy 0.9534109816971714\n",
      "K=4 accuracy 0.9511924570160843\n",
      "K=5 accuracy 0.9517470881863561\n",
      "K=6 accuracy 0.9478646699944537\n",
      "K=7 accuracy 0.9478646699944537\n",
      "K=8 accuracy 0.9439822518025514\n",
      "K=9 accuracy 0.9456461453133667\n",
      "K=10 accuracy 0.9417637271214643\n",
      "K=11 accuracy 0.9428729894620078\n",
      "K=12 accuracy 0.9412090959511925\n",
      "K=13 accuracy 0.9412090959511925\n",
      "K=14 accuracy 0.93732667775929\n",
      "K=15 accuracy 0.93732667775929\n",
      "K=16 accuracy 0.9356627842484747\n",
      "K=17 accuracy 0.9367720465890182\n",
      "K=18 accuracy 0.9334442595673876\n",
      "K=19 accuracy 0.9323349972268441\n"
     ]
    }
   ],
   "source": [
    "max = 0\n",
    "error_rate = []\n",
    "for i in range(2, 20):\n",
    "    knn = KNeighborsClassifier(n_neighbors=i)\n",
    "\n",
    "    #print(\"Training Started\")\n",
    "    knn.fit(X_train, y_train)\n",
    "\n",
    "    #print(\"Testing the classifier\")\n",
    "    y_pred = knn.predict(X_test)\n",
    "    acc = accuracy_score(y_pred, y_test)\n",
    "    error_rate.append(np.mean(y_pred != y_test))\n",
    "    print(f'K={i} accuracy %s' % acc)"
   ]
  },
  {
   "cell_type": "code",
   "execution_count": 57,
   "metadata": {},
   "outputs": [
    {
     "data": {
      "text/plain": [
       "Text(0, 0.5, 'Error Rate')"
      ]
     },
     "execution_count": 57,
     "metadata": {},
     "output_type": "execute_result"
    },
    {
     "data": {
      "image/png": "[encoded data removed]",
      "text/plain": [
       "<Figure size 720x576 with 1 Axes>"
      ]
     },
     "metadata": {
      "needs_background": "light"
     },
     "output_type": "display_data"
    }
   ],
   "source": [
    "plt.figure(figsize=(10,8))\n",
    "plt.plot(range(2,20),error_rate,color='blue', linestyle='dashed', marker='o',\n",
    "        markerfacecolor='red', markersize=10)\n",
    "plt.title('Error Rate vs. K Value')\n",
    "plt.xlabel('K')\n",
    "plt.ylabel('Error Rate')"
   ]
  },
  {
   "cell_type": "code",
   "execution_count": 58,
   "metadata": {},
   "outputs": [],
   "source": [
    "#Here we can see that that after arouns K>15 the error rate \n",
    "#just tends to hover around 0.06-0.05 Let's retrain the model with that and check the classification report!\n",
    "neigh = KNeighborsClassifier(n_neighbors = 15, metric='manhattan', weights='distance')"
   ]
  },
  {
   "cell_type": "code",
   "execution_count": 59,
   "metadata": {},
   "outputs": [
    {
     "data": {
      "text/plain": [
       "KNeighborsClassifier(metric='manhattan', n_neighbors=15, weights='distance')"
      ]
     },
     "execution_count": 59,
     "metadata": {},
     "output_type": "execute_result"
    }
   ],
   "source": [
    "neigh.fit(X_train, y_train)"
   ]
  },
  {
   "cell_type": "code",
   "execution_count": 60,
   "metadata": {},
   "outputs": [
    {
     "data": {
      "text/plain": [
       "0.968940654464781"
      ]
     },
     "execution_count": 60,
     "metadata": {},
     "output_type": "execute_result"
    }
   ],
   "source": [
    "neigh.score(X_test, y_test)"
   ]
  },
  {
   "cell_type": "code",
   "execution_count": 61,
   "metadata": {},
   "outputs": [],
   "source": [
    "y_pred = neigh.predict(X_test)"
   ]
  },
  {
   "cell_type": "code",
   "execution_count": 62,
   "metadata": {},
   "outputs": [
    {
     "name": "stdout",
     "output_type": "stream",
     "text": [
      "              precision    recall  f1-score   support\n",
      "\n",
      "           0       0.84      0.78      0.81        97\n",
      "           1       0.47      0.58      0.52        12\n",
      "           2       0.77      0.91      0.83        11\n",
      "           3       0.92      1.00      0.96        12\n",
      "           4       0.39      0.52      0.44        23\n",
      "           5       1.00      0.99      1.00      1645\n",
      "           6       0.08      0.33      0.13         3\n",
      "\n",
      "    accuracy                           0.97      1803\n",
      "   macro avg       0.64      0.73      0.67      1803\n",
      "weighted avg       0.98      0.97      0.97      1803\n",
      "\n"
     ]
    }
   ],
   "source": [
    "print(classification_report(y_test, y_pred))"
   ]
  },
  {
   "cell_type": "code",
   "execution_count": 63,
   "metadata": {},
   "outputs": [
    {
     "name": "stdout",
     "output_type": "stream",
     "text": [
      "accuracy 0.968940654464781\n"
     ]
    }
   ],
   "source": [
    "print('accuracy %s' % accuracy_score(y_test, y_pred))"
   ]
  },
  {
   "cell_type": "code",
   "execution_count": 64,
   "metadata": {},
   "outputs": [
    {
     "name": "stdout",
     "output_type": "stream",
     "text": [
      "[[  76    3    1    0    7    0   10]\n",
      " [   1    7    0    0    4    0    0]\n",
      " [   0    0   10    1    0    0    0]\n",
      " [   0    0    0   12    0    0    0]\n",
      " [   5    3    2    0   12    0    1]\n",
      " [   6    2    0    0    8 1629    0]\n",
      " [   2    0    0    0    0    0    1]]\n"
     ]
    }
   ],
   "source": [
    "print(confusion_matrix(y_test, y_pred))"
   ]
  },
  {
   "cell_type": "code",
   "execution_count": 65,
   "metadata": {},
   "outputs": [
    {
     "name": "stdout",
     "output_type": "stream",
     "text": [
      "Normalized confusion matrix\n"
     ]
    },
    {
     "data": {
      "image/png": "[encoded data removed]",
      "text/plain": [
       "<Figure size 432x432 with 1 Axes>"
      ]
     },
     "metadata": {
      "needs_background": "light"
     },
     "output_type": "display_data"
    }
   ],
   "source": [
    "fig = plt.figure()\n",
    "fig.set_size_inches(6, 6, forward=True)\n",
    "fig.align_labels()\n",
    "\n",
    "plot_confusion_matrix(confusion_matrix(y_test, y_pred), normalize=True,\n",
    "                      title='Confusion matrix', classes= le.inverse_transform([0,1,2,3,4,5,6]))\n",
    "fig.show()"
   ]
  },
  {
   "cell_type": "code",
   "execution_count": 66,
   "metadata": {},
   "outputs": [
    {
     "name": "stdout",
     "output_type": "stream",
     "text": [
      "Feature  Importance\n",
      "0        0.424733\n",
      "1        0.484196\n",
      "2        0.30789\n",
      "3        0.5355\n",
      "4        0.613564\n",
      "5        0.309754\n",
      "6        0.382554\n",
      "7        0.572964\n",
      "8        0.592573\n",
      "9        0.30767\n",
      "10        0.189906\n",
      "11        0.326402\n",
      "12        0.331096\n",
      "13        0.316115\n",
      "14        0.32162\n",
      "15        0.307495\n",
      "16        0.279112\n",
      "17        0.268869\n"
     ]
    }
   ],
   "source": [
    "# permutation feature importance with knn for classification\n",
    "from sklearn.datasets import make_classification\n",
    "from sklearn.neighbors import KNeighborsClassifier\n",
    "from sklearn.inspection import permutation_importance\n",
    "from matplotlib import pyplot\n",
    "from sklearn.model_selection import cross_val_score\n",
    "# # perform permutation importance\n",
    "# results = permutation_importance(neigh, X_train, y_train, scoring='accuracy')\n",
    "# # get importance\n",
    "# importance = results.importances_mean\n",
    "# # summarize feature importance\n",
    "# for i,v in enumerate(importance):\n",
    "#     print('Feature: %0d, Score: %.5f' % (i,v))\n",
    "# # plot feature importance\n",
    "# pyplot.bar([x for x in range(len(importance))], importance)\n",
    "# pyplot.show()\n",
    "\n",
    "\n",
    "n_feats = X_train.shape[1]\n",
    "\n",
    "print('Feature  Importance')\n",
    "for i in range(n_feats):\n",
    "    X = X_train[:, i].reshape(-1, 1)\n",
    "    scores = cross_val_score(neigh, X, y_train, cv=3)\n",
    "    print(f'{i}        {scores.mean():g}')"
   ]
  },
  {
   "cell_type": "markdown",
   "metadata": {},
   "source": [
    "# Random Forest"
   ]
  },
  {
   "cell_type": "code",
   "execution_count": 67,
   "metadata": {},
   "outputs": [
    {
     "data": {
      "text/plain": [
       "RandomForestClassifier()"
      ]
     },
     "execution_count": 67,
     "metadata": {},
     "output_type": "execute_result"
    }
   ],
   "source": [
    "#rf = RandomForestClassifier(max_depth=60, n_estimators=100, max_features='auto', criterion='entropy')\n",
    "rf = RandomForestClassifier()\n",
    "rf.fit(X_train , y_train)"
   ]
  },
  {
   "cell_type": "code",
   "execution_count": 68,
   "metadata": {},
   "outputs": [
    {
     "data": {
      "text/plain": [
       "0.9872434830837493"
      ]
     },
     "execution_count": 68,
     "metadata": {},
     "output_type": "execute_result"
    }
   ],
   "source": [
    "rf.score(X_test, y_test)"
   ]
  },
  {
   "cell_type": "code",
   "execution_count": 69,
   "metadata": {},
   "outputs": [],
   "source": [
    "y_pred = rf.predict(X_test)"
   ]
  },
  {
   "cell_type": "code",
   "execution_count": 70,
   "metadata": {},
   "outputs": [
    {
     "name": "stdout",
     "output_type": "stream",
     "text": [
      "              precision    recall  f1-score   support\n",
      "\n",
      "           0       0.96      0.96      0.96        97\n",
      "           1       0.56      0.42      0.48        12\n",
      "           2       0.83      0.91      0.87        11\n",
      "           3       0.80      1.00      0.89        12\n",
      "           4       0.65      0.65      0.65        23\n",
      "           5       1.00      1.00      1.00      1645\n",
      "           6       0.50      0.67      0.57         3\n",
      "\n",
      "    accuracy                           0.99      1803\n",
      "   macro avg       0.76      0.80      0.77      1803\n",
      "weighted avg       0.99      0.99      0.99      1803\n",
      "\n"
     ]
    }
   ],
   "source": [
    "print(classification_report(y_test, y_pred))"
   ]
  },
  {
   "cell_type": "code",
   "execution_count": 71,
   "metadata": {},
   "outputs": [
    {
     "name": "stdout",
     "output_type": "stream",
     "text": [
      "accuracy 0.9872434830837493\n"
     ]
    }
   ],
   "source": [
    "print('accuracy %s' % accuracy_score(y_pred, y_test))"
   ]
  },
  {
   "cell_type": "code",
   "execution_count": 72,
   "metadata": {},
   "outputs": [
    {
     "name": "stdout",
     "output_type": "stream",
     "text": [
      "Normalized confusion matrix\n"
     ]
    },
    {
     "data": {
      "image/png": "[encoded data removed]",
      "text/plain": [
       "<Figure size 432x432 with 1 Axes>"
      ]
     },
     "metadata": {
      "needs_background": "light"
     },
     "output_type": "display_data"
    }
   ],
   "source": [
    "fig = plt.figure()\n",
    "fig.set_size_inches(6, 6, forward=True)\n",
    "fig.align_labels()\n",
    "\n",
    "plot_confusion_matrix(confusion_matrix(y_test, y_pred), normalize=True,\n",
    "                      title='Confusion matrix', classes= le.inverse_transform([0,1,2,3,4,5,6]))\n",
    "fig.show()"
   ]
  },
  {
   "cell_type": "code",
   "execution_count": 73,
   "metadata": {},
   "outputs": [
    {
     "data": {
      "image/png": "[encoded data removed]",
      "text/plain": [
       "<Figure size 1728x864 with 1 Axes>"
      ]
     },
     "metadata": {
      "needs_background": "light"
     },
     "output_type": "display_data"
    }
   ],
   "source": [
    "importances = rf.feature_importances_\n",
    "indices = np.argsort(importances)[::-1]\n",
    "names = [X_col_names[i] for i in indices]\n",
    "plt.figure(figsize=(24,12))\n",
    "plt.title(\"Importances\")\n",
    "plt.bar(range(X_train.shape[1]), importances[indices])\n",
    "plt.xticks(range(X_train.shape[1]), names, rotation=90)\n",
    "plt.savefig(\"RF_features.png\")"
   ]
  },
  {
   "cell_type": "code",
   "execution_count": 74,
   "metadata": {
    "scrolled": false
   },
   "outputs": [
    {
     "data": {
      "text/plain": [
       "[DecisionTreeClassifier(max_features='auto', random_state=1237357740),\n",
       " DecisionTreeClassifier(max_features='auto', random_state=777450699),\n",
       " DecisionTreeClassifier(max_features='auto', random_state=1035156494),\n",
       " DecisionTreeClassifier(max_features='auto', random_state=184602793),\n",
       " DecisionTreeClassifier(max_features='auto', random_state=374610779),\n",
       " DecisionTreeClassifier(max_features='auto', random_state=648786675),\n",
       " DecisionTreeClassifier(max_features='auto', random_state=27056020),\n",
       " DecisionTreeClassifier(max_features='auto', random_state=1089349048),\n",
       " DecisionTreeClassifier(max_features='auto', random_state=1988436188),\n",
       " DecisionTreeClassifier(max_features='auto', random_state=137123386),\n",
       " DecisionTreeClassifier(max_features='auto', random_state=331205998),\n",
       " DecisionTreeClassifier(max_features='auto', random_state=1242314094),\n",
       " DecisionTreeClassifier(max_features='auto', random_state=617813038),\n",
       " DecisionTreeClassifier(max_features='auto', random_state=1154578385),\n",
       " DecisionTreeClassifier(max_features='auto', random_state=850657876),\n",
       " DecisionTreeClassifier(max_features='auto', random_state=2107338536),\n",
       " DecisionTreeClassifier(max_features='auto', random_state=732200330),\n",
       " DecisionTreeClassifier(max_features='auto', random_state=889972035),\n",
       " DecisionTreeClassifier(max_features='auto', random_state=1656328726),\n",
       " DecisionTreeClassifier(max_features='auto', random_state=1238147344),\n",
       " DecisionTreeClassifier(max_features='auto', random_state=82522836),\n",
       " DecisionTreeClassifier(max_features='auto', random_state=566722106),\n",
       " DecisionTreeClassifier(max_features='auto', random_state=2020886610),\n",
       " DecisionTreeClassifier(max_features='auto', random_state=37247349),\n",
       " DecisionTreeClassifier(max_features='auto', random_state=1999304646),\n",
       " DecisionTreeClassifier(max_features='auto', random_state=2142455083),\n",
       " DecisionTreeClassifier(max_features='auto', random_state=2031867283),\n",
       " DecisionTreeClassifier(max_features='auto', random_state=396904137),\n",
       " DecisionTreeClassifier(max_features='auto', random_state=864206397),\n",
       " DecisionTreeClassifier(max_features='auto', random_state=1503924147),\n",
       " DecisionTreeClassifier(max_features='auto', random_state=277345002),\n",
       " DecisionTreeClassifier(max_features='auto', random_state=102720610),\n",
       " DecisionTreeClassifier(max_features='auto', random_state=44647513),\n",
       " DecisionTreeClassifier(max_features='auto', random_state=648607645),\n",
       " DecisionTreeClassifier(max_features='auto', random_state=594807292),\n",
       " DecisionTreeClassifier(max_features='auto', random_state=949946874),\n",
       " DecisionTreeClassifier(max_features='auto', random_state=1335436828),\n",
       " DecisionTreeClassifier(max_features='auto', random_state=1649586410),\n",
       " DecisionTreeClassifier(max_features='auto', random_state=1551610890),\n",
       " DecisionTreeClassifier(max_features='auto', random_state=285535858),\n",
       " DecisionTreeClassifier(max_features='auto', random_state=523511870),\n",
       " DecisionTreeClassifier(max_features='auto', random_state=27396821),\n",
       " DecisionTreeClassifier(max_features='auto', random_state=899699587),\n",
       " DecisionTreeClassifier(max_features='auto', random_state=1024843131),\n",
       " DecisionTreeClassifier(max_features='auto', random_state=419280375),\n",
       " DecisionTreeClassifier(max_features='auto', random_state=759334446),\n",
       " DecisionTreeClassifier(max_features='auto', random_state=503753229),\n",
       " DecisionTreeClassifier(max_features='auto', random_state=1588334443),\n",
       " DecisionTreeClassifier(max_features='auto', random_state=1646838096),\n",
       " DecisionTreeClassifier(max_features='auto', random_state=4909200),\n",
       " DecisionTreeClassifier(max_features='auto', random_state=954555895),\n",
       " DecisionTreeClassifier(max_features='auto', random_state=1572400271),\n",
       " DecisionTreeClassifier(max_features='auto', random_state=1149708515),\n",
       " DecisionTreeClassifier(max_features='auto', random_state=2012480678),\n",
       " DecisionTreeClassifier(max_features='auto', random_state=1860161792),\n",
       " DecisionTreeClassifier(max_features='auto', random_state=1257422381),\n",
       " DecisionTreeClassifier(max_features='auto', random_state=869627262),\n",
       " DecisionTreeClassifier(max_features='auto', random_state=768101268),\n",
       " DecisionTreeClassifier(max_features='auto', random_state=1304806227),\n",
       " DecisionTreeClassifier(max_features='auto', random_state=1571573376),\n",
       " DecisionTreeClassifier(max_features='auto', random_state=946481562),\n",
       " DecisionTreeClassifier(max_features='auto', random_state=262634168),\n",
       " DecisionTreeClassifier(max_features='auto', random_state=271426414),\n",
       " DecisionTreeClassifier(max_features='auto', random_state=530496036),\n",
       " DecisionTreeClassifier(max_features='auto', random_state=437788128),\n",
       " DecisionTreeClassifier(max_features='auto', random_state=901497892),\n",
       " DecisionTreeClassifier(max_features='auto', random_state=964944525),\n",
       " DecisionTreeClassifier(max_features='auto', random_state=1582464547),\n",
       " DecisionTreeClassifier(max_features='auto', random_state=1912339743),\n",
       " DecisionTreeClassifier(max_features='auto', random_state=1082402833),\n",
       " DecisionTreeClassifier(max_features='auto', random_state=1750541778),\n",
       " DecisionTreeClassifier(max_features='auto', random_state=1960024673),\n",
       " DecisionTreeClassifier(max_features='auto', random_state=1348953902),\n",
       " DecisionTreeClassifier(max_features='auto', random_state=796618793),\n",
       " DecisionTreeClassifier(max_features='auto', random_state=665253767),\n",
       " DecisionTreeClassifier(max_features='auto', random_state=1357243926),\n",
       " DecisionTreeClassifier(max_features='auto', random_state=473429168),\n",
       " DecisionTreeClassifier(max_features='auto', random_state=1458116930),\n",
       " DecisionTreeClassifier(max_features='auto', random_state=875130767),\n",
       " DecisionTreeClassifier(max_features='auto', random_state=1702401225),\n",
       " DecisionTreeClassifier(max_features='auto', random_state=1383128945),\n",
       " DecisionTreeClassifier(max_features='auto', random_state=42047213),\n",
       " DecisionTreeClassifier(max_features='auto', random_state=443874468),\n",
       " DecisionTreeClassifier(max_features='auto', random_state=126303753),\n",
       " DecisionTreeClassifier(max_features='auto', random_state=1653573948),\n",
       " DecisionTreeClassifier(max_features='auto', random_state=475028232),\n",
       " DecisionTreeClassifier(max_features='auto', random_state=817834579),\n",
       " DecisionTreeClassifier(max_features='auto', random_state=1276791069),\n",
       " DecisionTreeClassifier(max_features='auto', random_state=291811178),\n",
       " DecisionTreeClassifier(max_features='auto', random_state=2081870681),\n",
       " DecisionTreeClassifier(max_features='auto', random_state=2493328),\n",
       " DecisionTreeClassifier(max_features='auto', random_state=685922550),\n",
       " DecisionTreeClassifier(max_features='auto', random_state=1595293849),\n",
       " DecisionTreeClassifier(max_features='auto', random_state=1120365877),\n",
       " DecisionTreeClassifier(max_features='auto', random_state=1479639810),\n",
       " DecisionTreeClassifier(max_features='auto', random_state=1772361364),\n",
       " DecisionTreeClassifier(max_features='auto', random_state=1984225738),\n",
       " DecisionTreeClassifier(max_features='auto', random_state=1526374215),\n",
       " DecisionTreeClassifier(max_features='auto', random_state=780066896),\n",
       " DecisionTreeClassifier(max_features='auto', random_state=1262676575)]"
      ]
     },
     "execution_count": 74,
     "metadata": {},
     "output_type": "execute_result"
    }
   ],
   "source": [
    "rf.estimators_"
   ]
  },
  {
   "cell_type": "markdown",
   "metadata": {},
   "source": [
    "# Tuning RF model"
   ]
  },
  {
   "cell_type": "code",
   "execution_count": 75,
   "metadata": {},
   "outputs": [],
   "source": [
    "model = RandomForestClassifier()\n",
    "param_grid = {'max_depth':[30,40,50],\n",
    "              'n_estimators':[20,30,40,50],  \n",
    "              'max_features':['auto','log2'],\n",
    "              'criterion':['gini','entropy']}\n",
    "GR = GridSearchCV(estimator = model, param_grid = param_grid, scoring='accuracy', cv=6)"
   ]
  },
  {
   "cell_type": "code",
   "execution_count": 76,
   "metadata": {},
   "outputs": [],
   "source": [
    "df_X = pd.DataFrame(Xn,columns= X_col_names[:-1])\n",
    "X_m = df_X[feats]\n",
    "X_n = np.array(X_m)\n"
   ]
  },
  {
   "cell_type": "code",
   "execution_count": 77,
   "metadata": {},
   "outputs": [
    {
     "data": {
      "text/plain": [
       "GridSearchCV(cv=6, estimator=RandomForestClassifier(),\n",
       "             param_grid={'criterion': ['gini', 'entropy'],\n",
       "                         'max_depth': [30, 40, 50],\n",
       "                         'max_features': ['auto', 'log2'],\n",
       "                         'n_estimators': [20, 30, 40, 50]},\n",
       "             scoring='accuracy')"
      ]
     },
     "execution_count": 77,
     "metadata": {},
     "output_type": "execute_result"
    }
   ],
   "source": [
    "GR.fit(X_train, y_train)"
   ]
  },
  {
   "cell_type": "code",
   "execution_count": 78,
   "metadata": {},
   "outputs": [
    {
     "data": {
      "text/plain": [
       "0.9962054390281446"
      ]
     },
     "execution_count": 78,
     "metadata": {},
     "output_type": "execute_result"
    }
   ],
   "source": [
    "GR.best_score_"
   ]
  },
  {
   "cell_type": "code",
   "execution_count": 79,
   "metadata": {},
   "outputs": [
    {
     "data": {
      "text/plain": [
       "{'criterion': 'entropy',\n",
       " 'max_depth': 50,\n",
       " 'max_features': 'auto',\n",
       " 'n_estimators': 50}"
      ]
     },
     "execution_count": 79,
     "metadata": {},
     "output_type": "execute_result"
    }
   ],
   "source": [
    "GR.best_params_"
   ]
  },
  {
   "cell_type": "code",
   "execution_count": 80,
   "metadata": {},
   "outputs": [
    {
     "data": {
      "text/plain": [
       "RandomForestClassifier(max_depth=50, max_features='log2', n_estimators=40)"
      ]
     },
     "execution_count": 80,
     "metadata": {},
     "output_type": "execute_result"
    }
   ],
   "source": [
    "rf = RandomForestClassifier(max_depth=50, n_estimators=40, max_features='log2', criterion='gini')\n",
    "rf.fit(X_train , y_train)"
   ]
  },
  {
   "cell_type": "code",
   "execution_count": 81,
   "metadata": {},
   "outputs": [
    {
     "data": {
      "text/plain": [
       "0.9872434830837493"
      ]
     },
     "execution_count": 81,
     "metadata": {},
     "output_type": "execute_result"
    }
   ],
   "source": [
    "rf.score(X_test, y_test)"
   ]
  },
  {
   "cell_type": "code",
   "execution_count": 82,
   "metadata": {},
   "outputs": [],
   "source": [
    "y_pred = rf.predict(X_test)"
   ]
  },
  {
   "cell_type": "code",
   "execution_count": 83,
   "metadata": {},
   "outputs": [
    {
     "name": "stdout",
     "output_type": "stream",
     "text": [
      "              precision    recall  f1-score   support\n",
      "\n",
      "           0       0.96      0.96      0.96        97\n",
      "           1       0.56      0.42      0.48        12\n",
      "           2       0.71      0.91      0.80        11\n",
      "           3       0.92      1.00      0.96        12\n",
      "           4       0.65      0.65      0.65        23\n",
      "           5       1.00      1.00      1.00      1645\n",
      "           6       0.50      0.67      0.57         3\n",
      "\n",
      "    accuracy                           0.99      1803\n",
      "   macro avg       0.76      0.80      0.77      1803\n",
      "weighted avg       0.99      0.99      0.99      1803\n",
      "\n"
     ]
    }
   ],
   "source": [
    "print(classification_report(y_test, y_pred))"
   ]
  },
  {
   "cell_type": "code",
   "execution_count": 84,
   "metadata": {},
   "outputs": [
    {
     "name": "stdout",
     "output_type": "stream",
     "text": [
      "accuracy 0.9872434830837493\n"
     ]
    }
   ],
   "source": [
    "print('accuracy %s' % accuracy_score(y_pred, y_test))"
   ]
  },
  {
   "cell_type": "code",
   "execution_count": 85,
   "metadata": {},
   "outputs": [
    {
     "name": "stdout",
     "output_type": "stream",
     "text": [
      "Normalized confusion matrix\n"
     ]
    },
    {
     "data": {
      "image/png": "[encoded data removed]",
      "text/plain": [
       "<Figure size 432x432 with 1 Axes>"
      ]
     },
     "metadata": {
      "needs_background": "light"
     },
     "output_type": "display_data"
    }
   ],
   "source": [
    "fig = plt.figure()\n",
    "fig.set_size_inches(6, 6, forward=True)\n",
    "fig.align_labels()\n",
    "\n",
    "plot_confusion_matrix(confusion_matrix(y_test, y_pred), normalize=True,\n",
    "                      title='Confusion matrix', classes= le.inverse_transform([0,1,2,3,4,5,6]))\n",
    "fig.show()"
   ]
  },
  {
   "cell_type": "code",
   "execution_count": 86,
   "metadata": {},
   "outputs": [
    {
     "data": {
      "image/png": "[encoded data removed]",
      "text/plain": [
       "<Figure size 1728x864 with 1 Axes>"
      ]
     },
     "metadata": {
      "needs_background": "light"
     },
     "output_type": "display_data"
    }
   ],
   "source": [
    "importances = rf.feature_importances_\n",
    "indices = np.argsort(importances)[::-1]\n",
    "names = [X_col_names[i] for i in indices]\n",
    "plt.figure(figsize=(24,12))\n",
    "plt.title(\"Importances\")\n",
    "plt.bar(range(X_train.shape[1]), importances[indices])\n",
    "plt.xticks(range(X_train.shape[1]), names, rotation=90)\n",
    "plt.savefig(\"RF_features.png\")"
   ]
  },
  {
   "cell_type": "markdown",
   "metadata": {},
   "source": [
    "# Testing single Prediction"
   ]
  },
  {
   "cell_type": "code",
   "execution_count": 87,
   "metadata": {},
   "outputs": [],
   "source": [
    "data_single_pred = {'Src Port':[57159],\n",
    "                    'Dst Port':[443],\n",
    "                    'FWD Init Win Bytes': [1987],\n",
    "                   # 'Flow Packets/s':[4914.005],\n",
    "                    'Flow Duration':[61152761] ,\n",
    "                    'Fwd Seg Size Min':[32],\n",
    "                    'Bwd Init Win Bytes':[33],\n",
    "                    'FIN Flag Count':[1],\n",
    "                    'Label':[0] ,\n",
    "                    'Total Fwd Packet':[10],\n",
    "                     'Flow IAT Mean':[2912036.238],\n",
    "                    'Total Bwd packets':[12],\n",
    "                   'Flow Bytes/s':[103.2659834],\n",
    "                    'Packet Length Mean':[274.5652174],\n",
    "                    'Total Length of Fwd Packet':[598],\n",
    "                    'Fwd Packet Length Mean':[59.8],\n",
    "                    'Down/Up Ratio':[1],\n",
    "                    'Fwd IAT Std':[150298.159],\n",
    "                    'Packet Length Variance':[244016.3478]\n",
    "                   }"
   ]
  },
  {
   "cell_type": "code",
   "execution_count": 88,
   "metadata": {},
   "outputs": [],
   "source": [
    "test_pred = pd.DataFrame.from_dict(data_single_pred)"
   ]
  },
  {
   "cell_type": "code",
   "execution_count": 89,
   "metadata": {},
   "outputs": [],
   "source": [
    "X_test_single=np.array(test_pred)\n",
    "y_pred=rf.predict(X_test_single)"
   ]
  },
  {
   "cell_type": "code",
   "execution_count": 90,
   "metadata": {},
   "outputs": [
    {
     "name": "stdout",
     "output_type": "stream",
     "text": [
      "[0]\n"
     ]
    }
   ],
   "source": [
    "print(y_pred)"
   ]
  },
  {
   "cell_type": "code",
   "execution_count": 91,
   "metadata": {},
   "outputs": [
    {
     "data": {
      "text/plain": [
       "['AUDIO-VIDEO-STREAMING',\n",
       " 'BROWSING',\n",
       " 'CHAT',\n",
       " 'EMAIL',\n",
       " 'FILE-TRANSFER',\n",
       " 'P2P',\n",
       " 'VOIP']"
      ]
     },
     "execution_count": 91,
     "metadata": {},
     "output_type": "execute_result"
    }
   ],
   "source": [
    "list(le.classes_)"
   ]
  },
  {
   "cell_type": "code",
   "execution_count": 92,
   "metadata": {},
   "outputs": [],
   "source": [
    "data_single_pred_2 = {'Src Port':[59286],\n",
    "                    'Dst Port':[53],\n",
    "                    'FWD Init Win Bytes': [0],\n",
    "                   # 'Flow Packets/s':[4914.005],\n",
    "                    'Flow Duration':[329654] ,\n",
    "                    'Fwd Seg Size Min':[8],\n",
    "                    'Bwd Init Win Bytes':[0],\n",
    "                    'FIN Flag Count':[0],\n",
    "                    'Label':[0] ,\n",
    "                    'Total Fwd Packet':[2],\n",
    "                     'Flow IAT Mean':[109884.6667],\n",
    "                    'Total Bwd packets':[2],\n",
    "                   'Flow Bytes/s':[606.6967184],\n",
    "                    'Packet Length Mean':[47.8],\n",
    "                    'Total Length of Fwd Packet':[78],\n",
    "                    'Fwd Packet Length Mean':[39],\n",
    "                    'Down/Up Ratio':[1],\n",
    "                    'Fwd IAT Std':[0],\n",
    "                    'Packet Length Variance':[163.2]\n",
    "                   }"
   ]
  },
  {
   "cell_type": "code",
   "execution_count": 93,
   "metadata": {},
   "outputs": [],
   "source": [
    "test_pred_2 = pd.DataFrame.from_dict(data_single_pred)"
   ]
  },
  {
   "cell_type": "code",
   "execution_count": 94,
   "metadata": {},
   "outputs": [],
   "source": [
    "X_test_single_2=np.array(test_pred_2)\n",
    "y_pred_2=rf.predict(X_test_single_2)"
   ]
  },
  {
   "cell_type": "code",
   "execution_count": 95,
   "metadata": {},
   "outputs": [
    {
     "name": "stdout",
     "output_type": "stream",
     "text": [
      "[0]\n"
     ]
    }
   ],
   "source": [
    "print(y_pred_2)"
   ]
  },
  {
   "cell_type": "code",
   "execution_count": null,
   "metadata": {},
   "outputs": [],
   "source": []
  }
 ],
 "metadata": {
  "colab": {
   "name": "EDA  and Feature Selection -Darknet.ipynb",
   "provenance": []
  },
  "kernelspec": {
   "display_name": "Python 3",
   "language": "python",
   "name": "python3"
  },
  "language_info": {
   "codemirror_mode": {
    "name": "ipython",
    "version": 3
   },
   "file_extension": ".py",
   "mimetype": "text/x-python",
   "name": "python",
   "nbconvert_exporter": "python",
   "pygments_lexer": "ipython3",
   "version": "3.7.4"
  }
 },
 "nbformat": 4,
 "nbformat_minor": 1
}
